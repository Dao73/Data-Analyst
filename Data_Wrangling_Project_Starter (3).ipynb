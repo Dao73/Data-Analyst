{
 "cells": [
  {
   "cell_type": "markdown",
   "id": "2202b391",
   "metadata": {},
   "source": [
    "# Real-world Data Wrangling"
   ]
  },
  {
   "cell_type": "markdown",
   "id": "c9971cf0",
   "metadata": {},
   "source": [
    "In this project, you will apply the skills you acquired in the course to gather and wrangle real-world data with two datasets of your choice.\n",
    "\n",
    "You will retrieve and extract the data, assess the data programmatically and visually, accross elements of data quality and structure, and implement a cleaning strategy for the data. You will then store the updated data into your selected database/data store, combine the data, and answer a research question with the datasets.\n",
    "\n",
    "Throughout the process, you are expected to:\n",
    "\n",
    "1. Explain your decisions towards methods used for gathering, assessing, cleaning, storing, and answering the research question\n",
    "2. Write code comments so your code is more readable\n",
    "\n",
    "Before you start, install the some of the required packages. "
   ]
  },
  {
   "cell_type": "code",
   "execution_count": 503,
   "id": "9f2ac50b",
   "metadata": {
    "scrolled": true
   },
   "outputs": [
    {
     "name": "stdout",
     "output_type": "stream",
     "text": [
      "Requirement already satisfied: kaggle==1.6.12 in c:\\users\\quent\\nouveau dossier\\lib\\site-packages (1.6.12)\n",
      "Requirement already satisfied: six>=1.10 in c:\\users\\quent\\nouveau dossier\\lib\\site-packages (from kaggle==1.6.12) (1.16.0)\n",
      "Requirement already satisfied: certifi>=2023.7.22 in c:\\users\\quent\\nouveau dossier\\lib\\site-packages (from kaggle==1.6.12) (2023.7.22)\n",
      "Requirement already satisfied: python-dateutil in c:\\users\\quent\\nouveau dossier\\lib\\site-packages (from kaggle==1.6.12) (2.8.2)\n",
      "Requirement already satisfied: requests in c:\\users\\quent\\nouveau dossier\\lib\\site-packages (from kaggle==1.6.12) (2.31.0)\n",
      "Requirement already satisfied: tqdm in c:\\users\\quent\\nouveau dossier\\lib\\site-packages (from kaggle==1.6.12) (4.65.0)\n",
      "Requirement already satisfied: python-slugify in c:\\users\\quent\\nouveau dossier\\lib\\site-packages (from kaggle==1.6.12) (5.0.2)\n",
      "Requirement already satisfied: urllib3 in c:\\users\\quent\\nouveau dossier\\lib\\site-packages (from kaggle==1.6.12) (1.26.16)\n",
      "Requirement already satisfied: bleach in c:\\users\\quent\\nouveau dossier\\lib\\site-packages (from kaggle==1.6.12) (4.1.0)\n",
      "Requirement already satisfied: packaging in c:\\users\\quent\\nouveau dossier\\lib\\site-packages (from bleach->kaggle==1.6.12) (23.1)\n",
      "Requirement already satisfied: webencodings in c:\\users\\quent\\nouveau dossier\\lib\\site-packages (from bleach->kaggle==1.6.12) (0.5.1)\n",
      "Requirement already satisfied: text-unidecode>=1.3 in c:\\users\\quent\\nouveau dossier\\lib\\site-packages (from python-slugify->kaggle==1.6.12) (1.3)\n",
      "Requirement already satisfied: charset-normalizer<4,>=2 in c:\\users\\quent\\nouveau dossier\\lib\\site-packages (from requests->kaggle==1.6.12) (2.0.4)\n",
      "Requirement already satisfied: idna<4,>=2.5 in c:\\users\\quent\\nouveau dossier\\lib\\site-packages (from requests->kaggle==1.6.12) (3.4)\n",
      "Requirement already satisfied: colorama in c:\\users\\quent\\nouveau dossier\\lib\\site-packages (from tqdm->kaggle==1.6.12) (0.4.6)\n"
     ]
    }
   ],
   "source": [
    "!python -m pip install kaggle==1.6.12"
   ]
  },
  {
   "cell_type": "code",
   "execution_count": 504,
   "id": "3594f4bf",
   "metadata": {},
   "outputs": [
    {
     "name": "stdout",
     "output_type": "stream",
     "text": [
      "Collecting ucimlrepo\n",
      "  Obtaining dependency information for ucimlrepo from https://files.pythonhosted.org/packages/3b/07/1252560194df2b4fad1cb3c46081b948331c63eb1bb0b97620d508d12a53/ucimlrepo-0.0.7-py3-none-any.whl.metadata\n",
      "  Using cached ucimlrepo-0.0.7-py3-none-any.whl.metadata (5.5 kB)\n",
      "Collecting numpy==1.24.3\n",
      "  Obtaining dependency information for numpy==1.24.3 from https://files.pythonhosted.org/packages/f0/e8/1ea9adebdccaadfc208c7517e09f5145ed5a73069779ff436393085d47a2/numpy-1.24.3-cp311-cp311-win_amd64.whl.metadata\n",
      "  Using cached numpy-1.24.3-cp311-cp311-win_amd64.whl.metadata (5.6 kB)\n",
      "Collecting pandas>=1.0.0 (from ucimlrepo)\n",
      "  Obtaining dependency information for pandas>=1.0.0 from https://files.pythonhosted.org/packages/ed/8c/87ddf1fcb55d11f9f847e3c69bb1c6f8e46e2f40ab1a2d2abadb2401b007/pandas-2.2.3-cp311-cp311-win_amd64.whl.metadata\n",
      "  Using cached pandas-2.2.3-cp311-cp311-win_amd64.whl.metadata (19 kB)\n",
      "Collecting certifi>=2020.12.5 (from ucimlrepo)\n",
      "  Obtaining dependency information for certifi>=2020.12.5 from https://files.pythonhosted.org/packages/12/90/3c9ff0512038035f59d279fddeb79f5f1eccd8859f06d6163c58798b9487/certifi-2024.8.30-py3-none-any.whl.metadata\n",
      "  Using cached certifi-2024.8.30-py3-none-any.whl.metadata (2.2 kB)\n",
      "Collecting python-dateutil>=2.8.2 (from pandas>=1.0.0->ucimlrepo)\n",
      "  Obtaining dependency information for python-dateutil>=2.8.2 from https://files.pythonhosted.org/packages/ec/57/56b9bcc3c9c6a792fcbaf139543cee77261f3651ca9da0c93f5c1221264b/python_dateutil-2.9.0.post0-py2.py3-none-any.whl.metadata\n",
      "  Using cached python_dateutil-2.9.0.post0-py2.py3-none-any.whl.metadata (8.4 kB)\n",
      "Collecting pytz>=2020.1 (from pandas>=1.0.0->ucimlrepo)\n",
      "  Obtaining dependency information for pytz>=2020.1 from https://files.pythonhosted.org/packages/11/c3/005fcca25ce078d2cc29fd559379817424e94885510568bc1bc53d7d5846/pytz-2024.2-py2.py3-none-any.whl.metadata\n",
      "  Using cached pytz-2024.2-py2.py3-none-any.whl.metadata (22 kB)\n",
      "Collecting tzdata>=2022.7 (from pandas>=1.0.0->ucimlrepo)\n",
      "  Obtaining dependency information for tzdata>=2022.7 from https://files.pythonhosted.org/packages/a6/ab/7e5f53c3b9d14972843a647d8d7a853969a58aecc7559cb3267302c94774/tzdata-2024.2-py2.py3-none-any.whl.metadata\n",
      "  Using cached tzdata-2024.2-py2.py3-none-any.whl.metadata (1.4 kB)\n",
      "Collecting six>=1.5 (from python-dateutil>=2.8.2->pandas>=1.0.0->ucimlrepo)\n",
      "  Obtaining dependency information for six>=1.5 from https://files.pythonhosted.org/packages/d9/5a/e7c31adbe875f2abbb91bd84cf2dc52d792b5a01506781dbcf25c91daf11/six-1.16.0-py2.py3-none-any.whl.metadata\n",
      "  Using cached six-1.16.0-py2.py3-none-any.whl.metadata (1.8 kB)\n",
      "Using cached numpy-1.24.3-cp311-cp311-win_amd64.whl (14.8 MB)\n",
      "Using cached ucimlrepo-0.0.7-py3-none-any.whl (8.0 kB)\n",
      "Using cached certifi-2024.8.30-py3-none-any.whl (167 kB)\n",
      "Using cached pandas-2.2.3-cp311-cp311-win_amd64.whl (11.6 MB)\n",
      "Using cached python_dateutil-2.9.0.post0-py2.py3-none-any.whl (229 kB)\n",
      "Using cached pytz-2024.2-py2.py3-none-any.whl (508 kB)\n",
      "Using cached tzdata-2024.2-py2.py3-none-any.whl (346 kB)\n",
      "Using cached six-1.16.0-py2.py3-none-any.whl (11 kB)\n",
      "Installing collected packages: pytz, tzdata, six, numpy, certifi, python-dateutil, pandas, ucimlrepo\n",
      "Successfully installed certifi-2024.8.30 numpy-1.24.3 pandas-2.2.3 python-dateutil-2.9.0.post0 pytz-2024.2 six-1.16.0 tzdata-2024.2 ucimlrepo-0.0.7\n"
     ]
    },
    {
     "name": "stderr",
     "output_type": "stream",
     "text": [
      "ERROR: pip's dependency resolver does not currently take into account all the packages that are installed. This behaviour is the source of the following dependency conflicts.\n",
      "conda-repo-cli 1.0.75 requires requests_mock, which is not installed.\n",
      "gensim 4.3.0 requires FuzzyTM>=0.4.0, which is not installed.\n",
      "tables 3.8.0 requires blosc2~=2.0.0, which is not installed.\n",
      "tables 3.8.0 requires cython>=0.29.21, which is not installed.\n",
      "conda-repo-cli 1.0.75 requires clyent==1.2.1, but you have clyent 1.2.2 which is incompatible.\n",
      "conda-repo-cli 1.0.75 requires python-dateutil==2.8.2, but you have python-dateutil 2.9.0.post0 which is incompatible.\n",
      "conda-repo-cli 1.0.75 requires PyYAML==6.0.1, but you have pyyaml 6.0 which is incompatible.\n",
      "WARNING: Target directory C:\\workspace\\certifi already exists. Specify --upgrade to force replacement.\n",
      "WARNING: Target directory C:\\workspace\\certifi-2024.8.30.dist-info already exists. Specify --upgrade to force replacement.\n",
      "WARNING: Target directory C:\\workspace\\dateutil already exists. Specify --upgrade to force replacement.\n",
      "WARNING: Target directory C:\\workspace\\numpy already exists. Specify --upgrade to force replacement.\n",
      "WARNING: Target directory C:\\workspace\\numpy-1.24.3.dist-info already exists. Specify --upgrade to force replacement.\n",
      "WARNING: Target directory C:\\workspace\\pandas already exists. Specify --upgrade to force replacement.\n",
      "WARNING: Target directory C:\\workspace\\pandas-2.2.3.dist-info already exists. Specify --upgrade to force replacement.\n",
      "WARNING: Target directory C:\\workspace\\pandas.libs already exists. Specify --upgrade to force replacement.\n",
      "WARNING: Target directory C:\\workspace\\python_dateutil-2.9.0.post0.dist-info already exists. Specify --upgrade to force replacement.\n",
      "WARNING: Target directory C:\\workspace\\pytz already exists. Specify --upgrade to force replacement.\n",
      "WARNING: Target directory C:\\workspace\\pytz-2024.2.dist-info already exists. Specify --upgrade to force replacement.\n",
      "WARNING: Target directory C:\\workspace\\six-1.16.0.dist-info already exists. Specify --upgrade to force replacement.\n",
      "WARNING: Target directory C:\\workspace\\six.py already exists. Specify --upgrade to force replacement.\n",
      "WARNING: Target directory C:\\workspace\\tzdata already exists. Specify --upgrade to force replacement.\n",
      "WARNING: Target directory C:\\workspace\\tzdata-2024.2.dist-info already exists. Specify --upgrade to force replacement.\n",
      "WARNING: Target directory C:\\workspace\\ucimlrepo already exists. Specify --upgrade to force replacement.\n",
      "WARNING: Target directory C:\\workspace\\ucimlrepo-0.0.7.dist-info already exists. Specify --upgrade to force replacement.\n",
      "WARNING: Target directory C:\\workspace\\__pycache__ already exists. Specify --upgrade to force replacement.\n",
      "WARNING: Target directory C:\\workspace\\bin already exists. Specify --upgrade to force replacement.\n"
     ]
    }
   ],
   "source": [
    "!pip install --target=/workspace ucimlrepo numpy==1.24.3"
   ]
  },
  {
   "cell_type": "markdown",
   "id": "956df7ba",
   "metadata": {},
   "source": [
    "## 1. Gather data\n",
    "\n",
    "In this section, you will extract data using two different data gathering methods and combine the data. Use at least two different types of data-gathering methods."
   ]
  },
  {
   "cell_type": "markdown",
   "id": "15a193e4",
   "metadata": {},
   "source": [
    "### **1.1.** Problem Statement"
   ]
  },
  {
   "cell_type": "markdown",
   "id": "2403f561",
   "metadata": {},
   "source": [
    "**Question:** What demographic factors most influence renewable energy consumption versus fossil fuels?\n",
    "\n",
    "This question could allow you to examine the impact of different types of energy production and CO₂ emissions across sectors, comparing them to trends in consumption per capita or region for conclusions on the shift towards renewable energy sources."
   ]
  },
  {
   "cell_type": "markdown",
   "id": "0959d602",
   "metadata": {},
   "source": [
    "#### **Dataset 1 :**\n",
    "\n",
    "**Monthly Energy Consumption by Sector Dataset**\n",
    "\n",
    "Justification for selection: I chose this dataset because it provides comprehensive data on energy consumption in the United States since 1973, by type of use (residential, commercial, industrial, transportation, and electric sector). This information is essential for analyzing energy consumption trends and identifying the most energy-intensive sectors.\n",
    "\n",
    "Collection method: Method of downloading files from: https://catalog.data.gov/dataset/monthly-and-annual-energy-consumption-by-sector\n",
    "\n",
    "Key variables: Key variables include Total Fossil Fuel Generation, Nuclear Electric Power Generation, Total Renewable Energy Generation, and Total Primary Energy Consumption. Each of these variables is essential for assessing consumption by energy source and understanding how it has changed over time."
   ]
  },
  {
   "cell_type": "code",
   "execution_count": 721,
   "id": "cbd619e8",
   "metadata": {},
   "outputs": [],
   "source": [
    "#FILL IN 1st data gathering and loading method\n",
    "\n",
    "import pandas as pd\n",
    "\n",
    "df_energy = pd.read_excel(\"C:\\\\Users\\\\quent\\\\Downloads\\\\monthly data.xlsx\")"
   ]
  },
  {
   "cell_type": "markdown",
   "id": "55169a87",
   "metadata": {},
   "source": [
    "#### **Dataset 2 :**\n",
    "\n",
    "**CO₂ Emissions by Sector Dataset:**\n",
    "\n",
    "Justification for selection: This dataset is crucial for examining the environmental impact of energy consumption by sector, allowing for links between CO₂ emissions levels and the types of fuels consumed. This link is fundamental for assessing decarbonization and energy transition efforts.\n",
    "\n",
    "Collection method: The data was gathered using the \"API\" method from: https://www.eia.gov/opendata/browser/co2-emissions/co2-emissions-aggregates?frequency=annual&data=value;&sortColumn=period;&sortDirection=desc;\n",
    "\n",
    "Key variables: Important variables include period (year), sector-name (emission sector), fuel-name (fuel type), and value (CO₂ emissions). They allow emissions to be tracked across different sectors for each fuel type, which is crucial for understanding emission sources and their impact."
   ]
  },
  {
   "cell_type": "code",
   "execution_count": 722,
   "id": "391ac83c",
   "metadata": {},
   "outputs": [],
   "source": [
    "#FILL IN 2nd data gathering and loading method\n",
    "\n",
    "import requests\n",
    "import json\n",
    "\n",
    "# Remplacez par votre clé API obtenue sur le site de l'EIA\n",
    "api_key = 'CBhjeZdVXEKe9HddRm2yGcNvDYyVaIyB4KDE3rFy'\n",
    "\n",
    "# Nouvelle URL pour les émissions de CO₂ avec les paramètres fournis\n",
    "url = f'https://api.eia.gov/v2/co2-emissions/co2-emissions-aggregates/data/?api_key={api_key}&frequency=annual&data[0]=value&sort[0][column]=period&sort[0][direction]=desc&offset=0&length=5000'\n",
    "\n",
    "# Envoyer une requête GET pour obtenir les données\n",
    "response = requests.get(url)\n",
    "\n",
    "# Vérifiez si la requête a réussi\n",
    "if response.status_code == 200:\n",
    "    # Enregistrez les données en JSON ou CSV\n",
    "    data = response.json()\n",
    "    with open('CO2_emissions_aggregates.json', 'w') as file:\n",
    "        json.dump(data, file, indent=4)"
   ]
  },
  {
   "cell_type": "markdown",
   "id": "92a6b496",
   "metadata": {},
   "source": [
    "## 2. Assess data\n",
    "\n",
    "Assess the data according to data quality and tidiness metrics using the report below.\n",
    "\n",
    "List **two** data quality issues and **two** tidiness issues. Assess each data issue visually **and** programmatically, then briefly describe the issue you find.  **Make sure you include justifications for the methods you use for the assessment.**"
   ]
  },
  {
   "cell_type": "markdown",
   "id": "45d3d81b",
   "metadata": {},
   "source": [
    "## Quality Issue 1: Issue Description: Anomalies :\n",
    "\n",
    "Visually inspect the dataframe: Using the .head() command, we visualized the first few rows of the dataset. "
   ]
  },
  {
   "cell_type": "code",
   "execution_count": 723,
   "id": "b4cffde7",
   "metadata": {
    "scrolled": true
   },
   "outputs": [
    {
     "name": "stdout",
     "output_type": "stream",
     "text": [
      "       Month  Total Fossil Fuels Production  \\\n",
      "0 1973-01-01                       4.932632   \n",
      "1 1973-02-01                       4.729582   \n",
      "2 1973-03-01                       4.946902   \n",
      "3 1973-04-01                       4.716271   \n",
      "4 1973-05-01                       4.956995   \n",
      "\n",
      "   Nuclear Electric Power Production  Total Renewable Energy Production  \\\n",
      "0                           0.068103                           0.219839   \n",
      "1                           0.064634                           0.197330   \n",
      "2                           0.072494                           0.218686   \n",
      "3                           0.064070                           0.209330   \n",
      "4                           0.062111                           0.215982   \n",
      "\n",
      "   Total Primary Energy Production  Primary Energy Imports  \\\n",
      "0                         5.220574                1.173080   \n",
      "1                         4.991545                1.168005   \n",
      "2                         5.238082                1.309473   \n",
      "3                         4.989672                1.085169   \n",
      "4                         5.235087                1.162804   \n",
      "\n",
      "   Primary Energy Exports  Primary Energy Net Imports  \\\n",
      "0                0.125781                    1.047299   \n",
      "1                0.120883                    1.047122   \n",
      "2                0.139950                    1.169523   \n",
      "3                0.194185                    0.890984   \n",
      "4                0.196775                    0.966029   \n",
      "\n",
      "   Primary Energy Stock Change and Other  Total Fossil Fuels Consumption  \\\n",
      "0                               0.771858                        6.747651   \n",
      "1                               0.390129                        6.163095   \n",
      "2                              -0.067640                        6.044647   \n",
      "3                              -0.110067                        5.493184   \n",
      "4                              -0.305335                        5.613551   \n",
      "\n",
      "   Nuclear Electric Power Consumption  Total Renewable Energy Consumption  \\\n",
      "0                            0.068103                            0.219839   \n",
      "1                            0.064634                            0.197330   \n",
      "2                            0.072494                            0.218686   \n",
      "3                            0.064070                            0.209330   \n",
      "4                            0.062111                            0.215982   \n",
      "\n",
      "   Total Primary Energy Consumption  \n",
      "0                          7.039731  \n",
      "1                          6.428796  \n",
      "2                          6.339964  \n",
      "3                          5.770589  \n",
      "4                          5.895781  \n"
     ]
    }
   ],
   "source": [
    "#FILL IN - Inspecting the df_energy visually\n",
    "\n",
    "print(df_energy.head())\n"
   ]
  },
  {
   "cell_type": "code",
   "execution_count": 724,
   "id": "044c341b",
   "metadata": {},
   "outputs": [
    {
     "name": "stdout",
     "output_type": "stream",
     "text": [
      "Anomalies in 'Total Fossil Fuels Production':\n",
      "         Month  Total Fossil Fuels Production  \\\n",
      "1   1973-02-01                       4.729582   \n",
      "2   1973-03-01                       4.946902   \n",
      "3   1973-04-01                       4.716271   \n",
      "4   1973-05-01                       4.956995   \n",
      "5   1973-06-01                       4.716096   \n",
      "..         ...                            ...   \n",
      "614 2024-03-01                       7.230208   \n",
      "615 2024-04-01                       6.899910   \n",
      "616 2024-05-01                       7.172772   \n",
      "617 2024-06-01                       7.083480   \n",
      "618 2024-07-01                       7.288747   \n",
      "\n",
      "     Nuclear Electric Power Production  Total Renewable Energy Production  \\\n",
      "1                             0.064634                           0.197330   \n",
      "2                             0.072494                           0.218686   \n",
      "3                             0.064070                           0.209330   \n",
      "4                             0.062111                           0.215982   \n",
      "5                             0.073968                           0.208249   \n",
      "..                                 ...                                ...   \n",
      "614                           0.661837                           0.769983   \n",
      "615                           0.598945                           0.749908   \n",
      "616                           0.678838                           0.759391   \n",
      "617                           0.712472                           0.757666   \n",
      "618                           0.730161                           0.741711   \n",
      "\n",
      "     Total Primary Energy Production  Primary Energy Imports  \\\n",
      "1                           4.991545                1.168005   \n",
      "2                           5.238082                1.309473   \n",
      "3                           4.989672                1.085169   \n",
      "4                           5.235087                1.162804   \n",
      "5                           4.998313                1.129614   \n",
      "..                               ...                     ...   \n",
      "614                         8.662027                1.736506   \n",
      "615                         8.248763                1.772336   \n",
      "616                         8.611001                1.935037   \n",
      "617                         8.553618                1.815086   \n",
      "618                         8.760620                1.967070   \n",
      "\n",
      "     Primary Energy Exports  Primary Energy Net Imports  \\\n",
      "1                  0.120883                    1.047122   \n",
      "2                  0.139950                    1.169523   \n",
      "3                  0.194185                    0.890984   \n",
      "4                  0.196775                    0.966029   \n",
      "5                  0.178871                    0.950743   \n",
      "..                      ...                         ...   \n",
      "614                2.640511                   -0.904005   \n",
      "615                2.389152                   -0.616816   \n",
      "616                2.539583                   -0.604546   \n",
      "617                2.603156                   -0.788070   \n",
      "618                2.528331                   -0.561261   \n",
      "\n",
      "     Primary Energy Stock Change and Other  Total Fossil Fuels Consumption  \\\n",
      "1                                 0.390129                        6.163095   \n",
      "2                                -0.067640                        6.044647   \n",
      "3                                -0.110067                        5.493184   \n",
      "4                                -0.305335                        5.613551   \n",
      "5                                -0.315356                        5.347479   \n",
      "..                                     ...                             ...   \n",
      "614                              -0.052886                        6.295904   \n",
      "615                              -0.488296                        5.810756   \n",
      "616                              -0.525419                        6.046421   \n",
      "617                              -0.184362                        6.121790   \n",
      "618                              -0.010027                        6.719087   \n",
      "\n",
      "     Nuclear Electric Power Consumption  Total Renewable Energy Consumption  \\\n",
      "1                              0.064634                            0.197330   \n",
      "2                              0.072494                            0.218686   \n",
      "3                              0.064070                            0.209330   \n",
      "4                              0.062111                            0.215982   \n",
      "5                              0.073968                            0.208249   \n",
      "..                                  ...                                 ...   \n",
      "614                            0.661837                            0.748585   \n",
      "615                            0.598945                            0.735529   \n",
      "616                            0.678838                            0.755624   \n",
      "617                            0.712472                            0.742073   \n",
      "618                            0.730161                            0.729178   \n",
      "\n",
      "     Total Primary Energy Consumption  \n",
      "1                            6.428796  \n",
      "2                            6.339964  \n",
      "3                            5.770589  \n",
      "4                            5.895781  \n",
      "5                            5.633700  \n",
      "..                                ...  \n",
      "614                          7.705136  \n",
      "615                          7.143650  \n",
      "616                          7.481036  \n",
      "617                          7.581186  \n",
      "618                          8.189331  \n",
      "\n",
      "[537 rows x 13 columns]\n",
      "\n",
      "Anomalies in 'Total Renewable Energy Production':\n",
      "         Month  Total Fossil Fuels Production  \\\n",
      "217 1991-02-01                       4.680405   \n",
      "229 1992-02-01                       4.652962   \n",
      "241 1993-02-01                       4.417378   \n",
      "253 1994-02-01                       4.516633   \n",
      "258 1994-07-01                       4.662735   \n",
      "270 1995-07-01                       4.683370   \n",
      "279 1996-04-01                       4.842086   \n",
      "284 1996-09-01                       4.795487   \n",
      "285 1996-10-01                       5.031760   \n",
      "289 1997-02-01                       4.651357   \n",
      "297 1997-10-01                       5.046643   \n",
      "301 1998-02-01                       4.641640   \n",
      "305 1998-06-01                       4.904914   \n",
      "311 1998-12-01                       4.938343   \n",
      "313 1999-02-01                       4.609765   \n",
      "409 2007-02-01                       4.300942   \n",
      "446 2010-03-01                       5.007242   \n",
      "458 2011-03-01                       5.160762   \n",
      "481 2013-02-01                       4.871826   \n",
      "482 2013-03-01                       5.374476   \n",
      "493 2014-02-01                       5.104065   \n",
      "494 2014-03-01                       5.776852   \n",
      "527 2016-12-01                       5.507153   \n",
      "530 2017-03-01                       5.687775   \n",
      "542 2018-03-01                       6.262895   \n",
      "548 2018-09-01                       6.440064   \n",
      "553 2019-02-01                       6.128797   \n",
      "554 2019-03-01                       6.663441   \n",
      "567 2020-04-01                       6.308500   \n",
      "568 2020-05-01                       5.811258   \n",
      "577 2021-02-01                       5.321800   \n",
      "578 2021-03-01                       6.606290   \n",
      "590 2022-03-01                       6.922638   \n",
      "602 2023-03-01                       7.319267   \n",
      "614 2024-03-01                       7.230208   \n",
      "\n",
      "     Nuclear Electric Power Production  Total Renewable Energy Production  \\\n",
      "217                           0.501792                           0.292511   \n",
      "229                           0.552907                           0.305537   \n",
      "241                           0.539056                           0.322185   \n",
      "253                           0.520733                           0.323751   \n",
      "258                           0.617950                           0.366741   \n",
      "270                           0.651824                           0.400977   \n",
      "279                           0.528566                           0.325915   \n",
      "284                           0.573389                           0.347920   \n",
      "285                           0.531582                           0.400155   \n",
      "289                           0.531601                           0.342279   \n",
      "297                           0.493021                           0.402188   \n",
      "301                           0.535028                           0.323378   \n",
      "305                           0.584683                           0.309019   \n",
      "311                           0.655652                           0.370867   \n",
      "313                           0.600763                           0.328183   \n",
      "409                           0.684143                           0.343865   \n",
      "446                           0.675562                           0.499560   \n",
      "458                           0.687083                           0.553169   \n",
      "481                           0.642440                           0.487697   \n",
      "482                           0.657737                           0.541012   \n",
      "493                           0.655141                           0.507104   \n",
      "494                           0.652611                           0.589448   \n",
      "527                           0.749517                           0.650886   \n",
      "530                           0.680810                           0.663855   \n",
      "542                           0.700826                           0.668458   \n",
      "548                           0.676697                           0.600580   \n",
      "553                           0.675753                           0.593023   \n",
      "554                           0.679562                           0.656855   \n",
      "567                           0.618090                           0.560555   \n",
      "568                           0.672074                           0.618177   \n",
      "577                           0.656549                           0.552157   \n",
      "578                           0.664413                           0.677204   \n",
      "590                           0.659830                           0.732321   \n",
      "602                           0.656348                           0.732940   \n",
      "614                           0.661837                           0.769983   \n",
      "\n",
      "     Total Primary Energy Production  Primary Energy Imports  \\\n",
      "217                         5.474708                1.286755   \n",
      "229                         5.511407                1.356391   \n",
      "241                         5.278619                1.522006   \n",
      "253                         5.361118                1.629586   \n",
      "258                         5.647426                2.041825   \n",
      "270                         5.736171                1.868917   \n",
      "279                         5.696567                1.915001   \n",
      "284                         5.716796                1.880212   \n",
      "285                         5.963497                2.063822   \n",
      "289                         5.525237                1.825327   \n",
      "297                         5.941852                2.248317   \n",
      "301                         5.500045                1.911604   \n",
      "305                         5.798615                2.206581   \n",
      "311                         5.964861                2.174578   \n",
      "313                         5.538711                2.053818   \n",
      "409                         5.328950                2.461838   \n",
      "446                         6.182364                2.518272   \n",
      "458                         6.401014                2.530831   \n",
      "481                         6.001963                1.804200   \n",
      "482                         6.573226                2.026198   \n",
      "493                         6.266310                1.798325   \n",
      "494                         7.018910                1.976814   \n",
      "527                         6.907555                2.123956   \n",
      "530                         7.032440                2.194988   \n",
      "542                         7.632179                2.114327   \n",
      "548                         7.717342                1.998803   \n",
      "553                         7.397573                1.700241   \n",
      "554                         7.999858                1.924651   \n",
      "567                         7.487145                1.507487   \n",
      "568                         7.101509                1.651252   \n",
      "577                         6.530507                1.565742   \n",
      "578                         7.947907                1.788106   \n",
      "590                         8.314788                1.848000   \n",
      "602                         8.708555                1.788990   \n",
      "614                         8.662027                1.736506   \n",
      "\n",
      "     Primary Energy Exports  Primary Energy Net Imports  \\\n",
      "217                0.459208                    0.827547   \n",
      "229                0.362809                    0.993582   \n",
      "241                0.356372                    1.165634   \n",
      "253                0.268122                    1.361464   \n",
      "258                0.323213                    1.718611   \n",
      "270                0.351448                    1.517469   \n",
      "279                0.373202                    1.541799   \n",
      "284                0.417916                    1.462296   \n",
      "285                0.413460                    1.650362   \n",
      "289                0.330234                    1.495092   \n",
      "297                0.403295                    1.845021   \n",
      "301                0.314846                    1.596759   \n",
      "305                0.366914                    1.839667   \n",
      "311                0.344582                    1.829996   \n",
      "313                0.239285                    1.814532   \n",
      "409                0.339708                    2.122130   \n",
      "446                0.649691                    1.868581   \n",
      "458                0.872969                    1.657863   \n",
      "481                0.853621                    0.950579   \n",
      "482                1.020149                    1.006049   \n",
      "493                0.923229                    0.875096   \n",
      "494                1.087870                    0.888944   \n",
      "527                1.371734                    0.752223   \n",
      "530                1.470174                    0.724814   \n",
      "542                1.742406                    0.371921   \n",
      "548                1.723356                    0.275447   \n",
      "553                1.724712                   -0.024471   \n",
      "554                1.912069                    0.012582   \n",
      "567                1.879794                   -0.372307   \n",
      "568                1.693721                   -0.042470   \n",
      "577                1.666903                   -0.101161   \n",
      "578                2.067107                   -0.279001   \n",
      "590                2.305548                   -0.457547   \n",
      "602                2.653942                   -0.864951   \n",
      "614                2.640511                   -0.904005   \n",
      "\n",
      "     Primary Energy Stock Change and Other  Total Fossil Fuels Consumption  \\\n",
      "217                               0.387292                        5.892879   \n",
      "229                               0.594618                        6.234612   \n",
      "241                               0.820386                        6.395945   \n",
      "253                               0.868748                        6.733204   \n",
      "258                              -0.146952                        6.220659   \n",
      "270                               0.172089                        6.361742   \n",
      "279                              -0.106645                        6.266615   \n",
      "284                              -0.197201                        6.048659   \n",
      "285                              -0.165079                        6.507758   \n",
      "289                               0.545694                        6.685037   \n",
      "297                              -0.288775                        6.594252   \n",
      "301                               0.336958                        6.569874   \n",
      "305                              -0.153003                        6.585208   \n",
      "311                               0.491362                        7.254417   \n",
      "313                               0.250248                        6.672181   \n",
      "409                               1.155593                        7.566001   \n",
      "446                              -0.058512                        6.816110   \n",
      "458                              -0.007902                        6.812883   \n",
      "481                               0.830327                        6.636237   \n",
      "482                               0.555340                        6.918264   \n",
      "493                               1.073866                        7.045436   \n",
      "494                               0.331627                        6.990320   \n",
      "527                               1.118651                        7.370000   \n",
      "530                               0.305857                        6.714135   \n",
      "542                               0.352487                        6.990649   \n",
      "548                              -0.401162                        6.322819   \n",
      "553                               0.728776                        6.835727   \n",
      "554                               0.352565                        7.031288   \n",
      "567                              -0.951489                        4.981285   \n",
      "568                              -0.625674                        5.129622   \n",
      "577                               1.396497                        6.613514   \n",
      "578                               0.032874                        6.358639   \n",
      "590                               0.189066                        6.665434   \n",
      "602                               0.284972                        6.745931   \n",
      "614                              -0.052886                        6.295904   \n",
      "\n",
      "     Nuclear Electric Power Consumption  Total Renewable Energy Consumption  \\\n",
      "217                            0.501792                            0.292511   \n",
      "229                            0.552907                            0.305537   \n",
      "241                            0.539056                            0.322577   \n",
      "253                            0.520733                            0.324355   \n",
      "258                            0.617950                            0.366408   \n",
      "270                            0.651824                            0.399964   \n",
      "279                            0.528566                            0.325967   \n",
      "284                            0.573389                            0.347223   \n",
      "285                            0.531582                            0.398629   \n",
      "289                            0.531601                            0.342432   \n",
      "297                            0.493021                            0.403225   \n",
      "301                            0.535028                            0.323992   \n",
      "305                            0.584683                            0.308120   \n",
      "311                            0.655652                            0.371443   \n",
      "313                            0.600763                            0.328079   \n",
      "409                            0.684143                            0.346849   \n",
      "446                            0.675562                            0.490357   \n",
      "458                            0.687083                            0.542539   \n",
      "481                            0.642440                            0.489703   \n",
      "482                            0.657737                            0.542829   \n",
      "493                            0.655141                            0.503966   \n",
      "494                            0.652611                            0.584109   \n",
      "527                            0.749517                            0.642283   \n",
      "530                            0.680810                            0.651022   \n",
      "542                            0.700826                            0.650088   \n",
      "548                            0.676697                            0.581227   \n",
      "553                            0.675753                            0.579706   \n",
      "554                            0.679562                            0.645964   \n",
      "567                            0.618090                            0.552905   \n",
      "568                            0.672074                            0.619028   \n",
      "577                            0.656549                            0.545792   \n",
      "578                            0.664413                            0.665673   \n",
      "590                            0.659830                            0.714233   \n",
      "602                            0.656348                            0.717501   \n",
      "614                            0.661837                            0.748585   \n",
      "\n",
      "     Total Primary Energy Consumption  \n",
      "217                          6.689547  \n",
      "229                          7.099607  \n",
      "241                          7.264639  \n",
      "253                          7.591330  \n",
      "258                          7.219085  \n",
      "270                          7.425729  \n",
      "279                          7.131721  \n",
      "284                          6.981891  \n",
      "285                          7.448780  \n",
      "289                          7.566024  \n",
      "297                          7.498098  \n",
      "301                          7.433762  \n",
      "305                          7.485279  \n",
      "311                          8.286219  \n",
      "313                          7.603491  \n",
      "409                          8.606674  \n",
      "446                          7.992433  \n",
      "458                          8.050975  \n",
      "481                          7.782869  \n",
      "482                          8.134614  \n",
      "493                          8.215271  \n",
      "494                          8.239482  \n",
      "527                          8.778429  \n",
      "530                          8.063111  \n",
      "542                          8.356587  \n",
      "548                          7.591627  \n",
      "553                          8.101878  \n",
      "554                          8.365006  \n",
      "567                          6.163349  \n",
      "568                          6.433366  \n",
      "577                          7.825842  \n",
      "578                          7.701781  \n",
      "590                          8.046307  \n",
      "602                          8.128575  \n",
      "614                          7.705136  \n"
     ]
    }
   ],
   "source": [
    "def detect_anomalies(df_energy, column, threshold):\n",
    "\n",
    "    df_energy['Difference'] = df_energy[column].diff().abs()\n",
    "    \n",
    "    anomalies = df_energy[df_energy['Difference'] > threshold].copy()\n",
    "    \n",
    "    # Supprimer la colonne temporaire 'Difference' pour plus de clarté dans les résultats\n",
    "    anomalies = anomalies.drop(columns=['Difference'])\n",
    "    \n",
    "    return anomalies\n",
    "\n",
    "seuil = 0.05\n",
    "\n",
    "anomalies_fossil = detect_anomalies(df_energy, 'Total Fossil Fuels Production', seuil)\n",
    "anomalies_renewable = detect_anomalies(df_energy, 'Total Renewable Energy Production', seuil)\n",
    "\n",
    "print(\"Anomalies in 'Total Fossil Fuels Production':\")\n",
    "print(anomalies_fossil)\n",
    "\n",
    "print(\"\\nAnomalies in 'Total Renewable Energy Production':\")\n",
    "print(anomalies_renewable)\n"
   ]
  },
  {
   "cell_type": "markdown",
   "id": "b44c9a71",
   "metadata": {},
   "source": [
    "**Response to quality issue 1 : df_energy**\n",
    "\n",
    "Anomalies were detected in the Total Fossil Fuels Production and Total Renewable Energy Production columns based on the specified threshold. These anomalies represent significant month-to-month variations that could indicate unusual events, errors"
   ]
  },
  {
   "cell_type": "code",
   "execution_count": 725,
   "id": "fe8af5c6",
   "metadata": {},
   "outputs": [
    {
     "name": "stdout",
     "output_type": "stream",
     "text": [
      "  period sectorId                                      sector-name fuelId  \\\n",
      "0   2021       RC             Residential carbon dioxide emissions     CO   \n",
      "1   2021       TT  Total carbon dioxide emissions from all sectors     NG   \n",
      "2   2021       TT  Total carbon dioxide emissions from all sectors     PE   \n",
      "3   2021       TT  Total carbon dioxide emissions from all sectors     CO   \n",
      "4   2021       TT  Total carbon dioxide emissions from all sectors     TO   \n",
      "\n",
      "     fuel-name stateId            state-name     value  \\\n",
      "0         Coal      SC        South Carolina         0   \n",
      "1  Natural Gas      DC  District of Columbia  1.499258   \n",
      "2    Petroleum      DC  District of Columbia  1.021598   \n",
      "3         Coal      DC  District of Columbia         0   \n",
      "4    All Fuels      DC  District of Columbia  2.520856   \n",
      "\n",
      "                  value-units  \n",
      "0  million metric tons of CO2  \n",
      "1  million metric tons of CO2  \n",
      "2  million metric tons of CO2  \n",
      "3  million metric tons of CO2  \n",
      "4  million metric tons of CO2  \n"
     ]
    }
   ],
   "source": [
    "#FILL IN - Inspecting the co2_df visually\n",
    "\n",
    "with open('CO2_emissions_aggregates.json') as file:\n",
    "    data = json.load(file)\n",
    "\n",
    "co2_df = pd.DataFrame(data['response']['data'])\n",
    "\n",
    "print(co2_df.head())"
   ]
  },
  {
   "cell_type": "code",
   "execution_count": 726,
   "id": "2aa0ad5d",
   "metadata": {},
   "outputs": [
    {
     "name": "stdout",
     "output_type": "stream",
     "text": [
      "Anomalies in 'value':\n",
      "     period sectorId                                      sector-name fuelId  \\\n",
      "1      2021       TT  Total carbon dioxide emissions from all sectors     NG   \n",
      "3      2021       TT  Total carbon dioxide emissions from all sectors     CO   \n",
      "4      2021       TT  Total carbon dioxide emissions from all sectors     TO   \n",
      "5      2021       IC              Industrial carbon dioxide emissions     TO   \n",
      "13     2021       TC          Transportation carbon dioxide emissions     TO   \n",
      "...     ...      ...                                              ...    ...   \n",
      "4992   2017       RC             Residential carbon dioxide emissions     CO   \n",
      "4993   2017       CC              Commercial carbon dioxide emissions     TO   \n",
      "4994   2017       CC              Commercial carbon dioxide emissions     NG   \n",
      "4997   2017       RC             Residential carbon dioxide emissions     TO   \n",
      "4998   2017       RC             Residential carbon dioxide emissions     NG   \n",
      "\n",
      "        fuel-name stateId            state-name     value  \\\n",
      "1     Natural Gas      DC  District of Columbia  1.499258   \n",
      "3            Coal      DC  District of Columbia  0.000000   \n",
      "4       All Fuels      DC  District of Columbia  2.520856   \n",
      "5       All Fuels      DC  District of Columbia  0.024819   \n",
      "13      All Fuels      DC  District of Columbia  0.941809   \n",
      "...           ...     ...                   ...       ...   \n",
      "4992         Coal      AK                Alaska  0.000000   \n",
      "4993    All Fuels      AK                Alaska  2.062429   \n",
      "4994  Natural Gas      AK                Alaska  0.812433   \n",
      "4997    All Fuels      AK                Alaska  1.660980   \n",
      "4998  Natural Gas      AK                Alaska  1.058200   \n",
      "\n",
      "                     value-units  \n",
      "1     million metric tons of CO2  \n",
      "3     million metric tons of CO2  \n",
      "4     million metric tons of CO2  \n",
      "5     million metric tons of CO2  \n",
      "13    million metric tons of CO2  \n",
      "...                          ...  \n",
      "4992  million metric tons of CO2  \n",
      "4993  million metric tons of CO2  \n",
      "4994  million metric tons of CO2  \n",
      "4997  million metric tons of CO2  \n",
      "4998  million metric tons of CO2  \n",
      "\n",
      "[4396 rows x 9 columns]\n"
     ]
    }
   ],
   "source": [
    "import pandas as pd\n",
    "\n",
    "def detect_anomalies(co2_df, column, threshold):\n",
    "   \n",
    "    co2_df[column] = pd.to_numeric(co2_df[column], errors='coerce')\n",
    "    \n",
    "    co2_df['Difference'] = co2_df[column].diff().abs()\n",
    "    \n",
    "    anomalies = co2_df[co2_df['Difference'] > threshold].copy()\n",
    "    \n",
    "    anomalies = anomalies.drop(columns=['Difference'])\n",
    "    \n",
    "    return anomalies\n",
    "\n",
    "seuil = 0.5\n",
    "\n",
    "anomalies_co2 = detect_anomalies(co2_df, 'value', seuil)\n",
    "\n",
    "print(\"Anomalies in 'value':\")\n",
    "print(anomalies_co2)\n",
    "\n"
   ]
  },
  {
   "cell_type": "markdown",
   "id": "55f7a7fc",
   "metadata": {},
   "source": [
    "**Response to quality issue 1 : co2_df**\n",
    "\n",
    "\n",
    "Anomaly detection in the value column identified several rows where there were significant variations in values. These rows may indicate data entry errors, missing values, or significant changes in the data."
   ]
  },
  {
   "cell_type": "markdown",
   "id": "fe1afc2d",
   "metadata": {},
   "source": [
    "### Quality Issue 2:    Inconsistency in data types. To ensure accurate analysis, it is essential that each column has an appropriate data type"
   ]
  },
  {
   "cell_type": "code",
   "execution_count": 727,
   "id": "52299cdb",
   "metadata": {},
   "outputs": [
    {
     "name": "stdout",
     "output_type": "stream",
     "text": [
      "       Month  Total Fossil Fuels Production  \\\n",
      "0 1973-01-01                       4.932632   \n",
      "1 1973-02-01                       4.729582   \n",
      "2 1973-03-01                       4.946902   \n",
      "3 1973-04-01                       4.716271   \n",
      "4 1973-05-01                       4.956995   \n",
      "\n",
      "   Nuclear Electric Power Production  Total Renewable Energy Production  \\\n",
      "0                           0.068103                           0.219839   \n",
      "1                           0.064634                           0.197330   \n",
      "2                           0.072494                           0.218686   \n",
      "3                           0.064070                           0.209330   \n",
      "4                           0.062111                           0.215982   \n",
      "\n",
      "   Total Primary Energy Production  Primary Energy Imports  \\\n",
      "0                         5.220574                1.173080   \n",
      "1                         4.991545                1.168005   \n",
      "2                         5.238082                1.309473   \n",
      "3                         4.989672                1.085169   \n",
      "4                         5.235087                1.162804   \n",
      "\n",
      "   Primary Energy Exports  Primary Energy Net Imports  \\\n",
      "0                0.125781                    1.047299   \n",
      "1                0.120883                    1.047122   \n",
      "2                0.139950                    1.169523   \n",
      "3                0.194185                    0.890984   \n",
      "4                0.196775                    0.966029   \n",
      "\n",
      "   Primary Energy Stock Change and Other  Total Fossil Fuels Consumption  \\\n",
      "0                               0.771858                        6.747651   \n",
      "1                               0.390129                        6.163095   \n",
      "2                              -0.067640                        6.044647   \n",
      "3                              -0.110067                        5.493184   \n",
      "4                              -0.305335                        5.613551   \n",
      "\n",
      "   Nuclear Electric Power Consumption  Total Renewable Energy Consumption  \\\n",
      "0                            0.068103                            0.219839   \n",
      "1                            0.064634                            0.197330   \n",
      "2                            0.072494                            0.218686   \n",
      "3                            0.064070                            0.209330   \n",
      "4                            0.062111                            0.215982   \n",
      "\n",
      "   Total Primary Energy Consumption  Difference  \n",
      "0                          7.039731         NaN  \n",
      "1                          6.428796    0.022509  \n",
      "2                          6.339964    0.021356  \n",
      "3                          5.770589    0.009356  \n",
      "4                          5.895781    0.006652  \n"
     ]
    }
   ],
   "source": [
    "#FILL IN - Inspecting the df_energy visually\n",
    "\n",
    "print(df_energy.head())\n"
   ]
  },
  {
   "cell_type": "code",
   "execution_count": 728,
   "id": "83b5ce39",
   "metadata": {},
   "outputs": [
    {
     "name": "stdout",
     "output_type": "stream",
     "text": [
      "Information about the energy consumption dataset:\n",
      "<class 'pandas.core.frame.DataFrame'>\n",
      "RangeIndex: 619 entries, 0 to 618\n",
      "Data columns (total 14 columns):\n",
      " #   Column                                 Non-Null Count  Dtype         \n",
      "---  ------                                 --------------  -----         \n",
      " 0   Month                                  619 non-null    datetime64[ns]\n",
      " 1   Total Fossil Fuels Production          619 non-null    float64       \n",
      " 2   Nuclear Electric Power Production      619 non-null    float64       \n",
      " 3   Total Renewable Energy Production      619 non-null    float64       \n",
      " 4   Total Primary Energy Production        619 non-null    float64       \n",
      " 5   Primary Energy Imports                 619 non-null    float64       \n",
      " 6   Primary Energy Exports                 619 non-null    float64       \n",
      " 7   Primary Energy Net Imports             619 non-null    float64       \n",
      " 8   Primary Energy Stock Change and Other  619 non-null    float64       \n",
      " 9   Total Fossil Fuels Consumption         619 non-null    float64       \n",
      " 10  Nuclear Electric Power Consumption     619 non-null    float64       \n",
      " 11  Total Renewable Energy Consumption     619 non-null    float64       \n",
      " 12  Total Primary Energy Consumption       619 non-null    float64       \n",
      " 13  Difference                             618 non-null    float64       \n",
      "dtypes: datetime64[ns](1), float64(13)\n",
      "memory usage: 67.8 KB\n",
      "None\n"
     ]
    }
   ],
   "source": [
    "#FILL IN - Inspecting the dataframe programmatically des informations générales sur le dataset de consommation d'énergie\n",
    "\n",
    "print(\"Information about the energy consumption dataset:\")\n",
    "print(df_energy.info())\n"
   ]
  },
  {
   "cell_type": "markdown",
   "id": "40244c40",
   "metadata": {},
   "source": [
    "**Response to quality issue 2 : df_energy**\n",
    "\n",
    "\n",
    "Visually : here is what we can notice to answer the second quality question (inconsistency in data types):\n",
    "\n",
    "Month column:\n",
    "\n",
    "The Month column does indeed contain dates in the form \"YYYY-MM-DD\", which is the standard date format. However, to ensure that this column is usable for temporal analyses, we should verify that it is in datetime64 format and not object.\n",
    "\n",
    "\n",
    "Programmatically : Data types\n",
    "\n",
    "The Month column is indeed in datetime64[ns] format, which is suitable for time-domain analyses. This will allow the data to be manipulated and visualized by period without requiring any additional conversion.\n",
    "\n",
    "\n"
   ]
  },
  {
   "cell_type": "code",
   "execution_count": 729,
   "id": "400b02e1",
   "metadata": {},
   "outputs": [
    {
     "name": "stdout",
     "output_type": "stream",
     "text": [
      "  period sectorId                                      sector-name fuelId  \\\n",
      "0   2021       RC             Residential carbon dioxide emissions     CO   \n",
      "1   2021       TT  Total carbon dioxide emissions from all sectors     NG   \n",
      "2   2021       TT  Total carbon dioxide emissions from all sectors     PE   \n",
      "3   2021       TT  Total carbon dioxide emissions from all sectors     CO   \n",
      "4   2021       TT  Total carbon dioxide emissions from all sectors     TO   \n",
      "\n",
      "     fuel-name stateId            state-name     value  \\\n",
      "0         Coal      SC        South Carolina         0   \n",
      "1  Natural Gas      DC  District of Columbia  1.499258   \n",
      "2    Petroleum      DC  District of Columbia  1.021598   \n",
      "3         Coal      DC  District of Columbia         0   \n",
      "4    All Fuels      DC  District of Columbia  2.520856   \n",
      "\n",
      "                  value-units  \n",
      "0  million metric tons of CO2  \n",
      "1  million metric tons of CO2  \n",
      "2  million metric tons of CO2  \n",
      "3  million metric tons of CO2  \n",
      "4  million metric tons of CO2  \n"
     ]
    }
   ],
   "source": [
    "#FILL IN - Inspecting the co2_df visually\n",
    "\n",
    "with open('CO2_emissions_aggregates.json') as file:\n",
    "    data = json.load(file)\n",
    "\n",
    "co2_df = pd.DataFrame(data['response']['data'])\n",
    "\n",
    "print(co2_df.head())"
   ]
  },
  {
   "cell_type": "code",
   "execution_count": 730,
   "id": "cec75bd2",
   "metadata": {
    "scrolled": true
   },
   "outputs": [
    {
     "name": "stdout",
     "output_type": "stream",
     "text": [
      "\n",
      "Information about the CO₂ emissions dataset:\n",
      "<class 'pandas.core.frame.DataFrame'>\n",
      "RangeIndex: 5000 entries, 0 to 4999\n",
      "Data columns (total 9 columns):\n",
      " #   Column       Non-Null Count  Dtype \n",
      "---  ------       --------------  ----- \n",
      " 0   period       5000 non-null   object\n",
      " 1   sectorId     5000 non-null   object\n",
      " 2   sector-name  5000 non-null   object\n",
      " 3   fuelId       5000 non-null   object\n",
      " 4   fuel-name    5000 non-null   object\n",
      " 5   stateId      5000 non-null   object\n",
      " 6   state-name   5000 non-null   object\n",
      " 7   value        5000 non-null   object\n",
      " 8   value-units  5000 non-null   object\n",
      "dtypes: object(9)\n",
      "memory usage: 351.7+ KB\n",
      "None\n"
     ]
    }
   ],
   "source": [
    "#FILL IN - Inspecting the dataframe programmatically\n",
    "\n",
    "print(\"\\nInformation about the CO₂ emissions dataset:\")\n",
    "print(co2_df.info())\n"
   ]
  },
  {
   "cell_type": "markdown",
   "id": "34c7d3ac",
   "metadata": {},
   "source": [
    "**Response to quality issue 2 : co2_df**\n",
    "\n",
    "\n",
    "Visually: The dataset contains well-defined columns such as period, sectorId, sector-name, fuelId, fuel-name, stateId, state-name, value, and value-units.\n",
    "\n",
    "Expected data types: Visually, the period column appears to represent years, with values ​​like 2021. It should ideally be in numeric (int) or datetime64 format, which is crucial for temporal analyses.\n",
    "\n",
    "Programmatically: The period column is currently of type object, even though it should ideally be a datetime or int type to represent years. Converting this column to a numeric or datetime format is essential for accurate time-based analysis.\n",
    "Data Type for value: The value column, which represents emission quantities, is also of type object. This column should be converted to a float type to allow for numerical calculations and comparisons across different entries. The current type could indicate that some rows contain non-numeric characters or formatting issues, which need to be cleaned."
   ]
  },
  {
   "cell_type": "markdown",
   "id": "75c7ee43",
   "metadata": {},
   "source": [
    "### Tidiness Issue 1 : Inconsistency in column names"
   ]
  },
  {
   "cell_type": "code",
   "execution_count": 731,
   "id": "21080077",
   "metadata": {},
   "outputs": [
    {
     "name": "stdout",
     "output_type": "stream",
     "text": [
      "       Month  Total Fossil Fuels Production  \\\n",
      "0 1973-01-01                       4.932632   \n",
      "1 1973-02-01                       4.729582   \n",
      "2 1973-03-01                       4.946902   \n",
      "3 1973-04-01                       4.716271   \n",
      "4 1973-05-01                       4.956995   \n",
      "\n",
      "   Nuclear Electric Power Production  Total Renewable Energy Production  \\\n",
      "0                           0.068103                           0.219839   \n",
      "1                           0.064634                           0.197330   \n",
      "2                           0.072494                           0.218686   \n",
      "3                           0.064070                           0.209330   \n",
      "4                           0.062111                           0.215982   \n",
      "\n",
      "   Total Primary Energy Production  Primary Energy Imports  \\\n",
      "0                         5.220574                1.173080   \n",
      "1                         4.991545                1.168005   \n",
      "2                         5.238082                1.309473   \n",
      "3                         4.989672                1.085169   \n",
      "4                         5.235087                1.162804   \n",
      "\n",
      "   Primary Energy Exports  Primary Energy Net Imports  \\\n",
      "0                0.125781                    1.047299   \n",
      "1                0.120883                    1.047122   \n",
      "2                0.139950                    1.169523   \n",
      "3                0.194185                    0.890984   \n",
      "4                0.196775                    0.966029   \n",
      "\n",
      "   Primary Energy Stock Change and Other  Total Fossil Fuels Consumption  \\\n",
      "0                               0.771858                        6.747651   \n",
      "1                               0.390129                        6.163095   \n",
      "2                              -0.067640                        6.044647   \n",
      "3                              -0.110067                        5.493184   \n",
      "4                              -0.305335                        5.613551   \n",
      "\n",
      "   Nuclear Electric Power Consumption  Total Renewable Energy Consumption  \\\n",
      "0                            0.068103                            0.219839   \n",
      "1                            0.064634                            0.197330   \n",
      "2                            0.072494                            0.218686   \n",
      "3                            0.064070                            0.209330   \n",
      "4                            0.062111                            0.215982   \n",
      "\n",
      "   Total Primary Energy Consumption  Difference  \n",
      "0                          7.039731         NaN  \n",
      "1                          6.428796    0.022509  \n",
      "2                          6.339964    0.021356  \n",
      "3                          5.770589    0.009356  \n",
      "4                          5.895781    0.006652  \n"
     ]
    }
   ],
   "source": [
    "#FILL IN - Inspecting the df_energy visually\n",
    "\n",
    "print(df_energy.head())"
   ]
  },
  {
   "cell_type": "code",
   "execution_count": 732,
   "id": "a7bdbf88",
   "metadata": {},
   "outputs": [
    {
     "name": "stdout",
     "output_type": "stream",
     "text": [
      "Index(['Month', 'Total Fossil Fuels Production',\n",
      "       'Nuclear Electric Power Production',\n",
      "       'Total Renewable Energy Production', 'Total Primary Energy Production',\n",
      "       'Primary Energy Imports', 'Primary Energy Exports',\n",
      "       'Primary Energy Net Imports', 'Primary Energy Stock Change and Other',\n",
      "       'Total Fossil Fuels Consumption', 'Nuclear Electric Power Consumption',\n",
      "       'Total Renewable Energy Consumption',\n",
      "       'Total Primary Energy Consumption', 'Difference'],\n",
      "      dtype='object')\n"
     ]
    }
   ],
   "source": [
    "#FILL IN - Inspecting the df_energy programmatically\n",
    "\n",
    "print(df_energy.columns)\n",
    "\n"
   ]
  },
  {
   "cell_type": "markdown",
   "id": "affc7081",
   "metadata": {},
   "source": [
    "**Response to tidiness issue 1 : df_energy**\n",
    "\n",
    "Visually : \n",
    "\n",
    "At I notice that the column representing the date is named Month. This inconsistency in the name of the date column, compared to the CO₂ emissions dataset, where the column is named period, can cause difficulties when merging or analyzing the two datasets together.\n",
    "\n",
    "Programmatically :\n",
    "\n",
    "The df_energy uses Month as the column name to represent dates. This name is different from the one used in the CO₂ emissions dataset, where the date column is named period. This inconsistency in the date column names can complicate merge or comparison operations between the two datasets, because the column names must be identical to allow a direct join.\n"
   ]
  },
  {
   "cell_type": "code",
   "execution_count": 733,
   "id": "33ce215b",
   "metadata": {
    "scrolled": true
   },
   "outputs": [
    {
     "name": "stdout",
     "output_type": "stream",
     "text": [
      "  period sectorId                                      sector-name fuelId  \\\n",
      "0   2021       RC             Residential carbon dioxide emissions     CO   \n",
      "1   2021       TT  Total carbon dioxide emissions from all sectors     NG   \n",
      "2   2021       TT  Total carbon dioxide emissions from all sectors     PE   \n",
      "3   2021       TT  Total carbon dioxide emissions from all sectors     CO   \n",
      "4   2021       TT  Total carbon dioxide emissions from all sectors     TO   \n",
      "\n",
      "     fuel-name stateId            state-name     value  \\\n",
      "0         Coal      SC        South Carolina         0   \n",
      "1  Natural Gas      DC  District of Columbia  1.499258   \n",
      "2    Petroleum      DC  District of Columbia  1.021598   \n",
      "3         Coal      DC  District of Columbia         0   \n",
      "4    All Fuels      DC  District of Columbia  2.520856   \n",
      "\n",
      "                  value-units  \n",
      "0  million metric tons of CO2  \n",
      "1  million metric tons of CO2  \n",
      "2  million metric tons of CO2  \n",
      "3  million metric tons of CO2  \n",
      "4  million metric tons of CO2  \n"
     ]
    }
   ],
   "source": [
    "#FILL IN - Inspecting the co2_df visually\n",
    "\n",
    "with open('CO2_emissions_aggregates.json') as file:\n",
    "    data = json.load(file)\n",
    "\n",
    "co2_df = pd.DataFrame(data['response']['data'])\n",
    "\n",
    "print(co2_df.head())\n"
   ]
  },
  {
   "cell_type": "code",
   "execution_count": 734,
   "id": "b22a8232",
   "metadata": {},
   "outputs": [
    {
     "name": "stdout",
     "output_type": "stream",
     "text": [
      "Index(['period', 'sectorId', 'sector-name', 'fuelId', 'fuel-name', 'stateId',\n",
      "       'state-name', 'value', 'value-units'],\n",
      "      dtype='object')\n"
     ]
    }
   ],
   "source": [
    "#FILL IN - Inspecting the dataframe programmatically\n",
    "\n",
    "print(co2_df.columns)"
   ]
  },
  {
   "cell_type": "markdown",
   "id": "405141eb",
   "metadata": {},
   "source": [
    "**Response to tidiness issue 1 : co2_df**\n",
    "\n",
    "Visually : \n",
    "\n",
    "Looking visually at this CO₂ emissions dataset, I see that the date column is named period, while in the energy consumption dataset, the date column is named month. This difference in column names for the same information (date) between the two datasets is a cleanliness inconsistency.\n",
    "\n",
    "This inconsistency could cause problems when merging or comparing the two datasets, as the column names must match for efficient join operations.\n",
    "\n",
    "Programmatically :\n",
    "\n",
    "In the co2_df, the date column is correctly named period, while in the energy consumption dataset it is named Month. This difference in name for the same information (the date) constitutes a data cleanliness problem.\n",
    "\n"
   ]
  },
  {
   "cell_type": "markdown",
   "id": "72cd223d",
   "metadata": {},
   "source": [
    "### Tidiness Issue 2: Column contain combined information and columns identified as subcategories"
   ]
  },
  {
   "cell_type": "code",
   "execution_count": 735,
   "id": "c430a0d2",
   "metadata": {
    "scrolled": true
   },
   "outputs": [
    {
     "name": "stdout",
     "output_type": "stream",
     "text": [
      "       Month  Total Fossil Fuels Production  \\\n",
      "0 1973-01-01                       4.932632   \n",
      "1 1973-02-01                       4.729582   \n",
      "2 1973-03-01                       4.946902   \n",
      "3 1973-04-01                       4.716271   \n",
      "4 1973-05-01                       4.956995   \n",
      "\n",
      "   Nuclear Electric Power Production  Total Renewable Energy Production  \\\n",
      "0                           0.068103                           0.219839   \n",
      "1                           0.064634                           0.197330   \n",
      "2                           0.072494                           0.218686   \n",
      "3                           0.064070                           0.209330   \n",
      "4                           0.062111                           0.215982   \n",
      "\n",
      "   Total Primary Energy Production  Primary Energy Imports  \\\n",
      "0                         5.220574                1.173080   \n",
      "1                         4.991545                1.168005   \n",
      "2                         5.238082                1.309473   \n",
      "3                         4.989672                1.085169   \n",
      "4                         5.235087                1.162804   \n",
      "\n",
      "   Primary Energy Exports  Primary Energy Net Imports  \\\n",
      "0                0.125781                    1.047299   \n",
      "1                0.120883                    1.047122   \n",
      "2                0.139950                    1.169523   \n",
      "3                0.194185                    0.890984   \n",
      "4                0.196775                    0.966029   \n",
      "\n",
      "   Primary Energy Stock Change and Other  Total Fossil Fuels Consumption  \\\n",
      "0                               0.771858                        6.747651   \n",
      "1                               0.390129                        6.163095   \n",
      "2                              -0.067640                        6.044647   \n",
      "3                              -0.110067                        5.493184   \n",
      "4                              -0.305335                        5.613551   \n",
      "\n",
      "   Nuclear Electric Power Consumption  Total Renewable Energy Consumption  \\\n",
      "0                            0.068103                            0.219839   \n",
      "1                            0.064634                            0.197330   \n",
      "2                            0.072494                            0.218686   \n",
      "3                            0.064070                            0.209330   \n",
      "4                            0.062111                            0.215982   \n",
      "\n",
      "   Total Primary Energy Consumption  Difference  \n",
      "0                          7.039731         NaN  \n",
      "1                          6.428796    0.022509  \n",
      "2                          6.339964    0.021356  \n",
      "3                          5.770589    0.009356  \n",
      "4                          5.895781    0.006652  \n"
     ]
    }
   ],
   "source": [
    "#FILL IN - Inspecting the df_energy visually\n",
    "\n",
    "print(df_energy.head())"
   ]
  },
  {
   "cell_type": "code",
   "execution_count": 736,
   "id": "0cf51af3",
   "metadata": {},
   "outputs": [
    {
     "name": "stdout",
     "output_type": "stream",
     "text": [
      "Columns identified as subcategories of a single energy type\n",
      "['Total Fossil Fuels Production', 'Nuclear Electric Power Production', 'Total Renewable Energy Production', 'Total Primary Energy Production', 'Total Fossil Fuels Consumption', 'Nuclear Electric Power Consumption', 'Total Renewable Energy Consumption', 'Total Primary Energy Consumption']\n",
      "\n",
      "'Tidiness' issue detected: Multiple columns represent different energy types\n"
     ]
    }
   ],
   "source": [
    "import pandas as pd\n",
    "\n",
    "energy_columns = [col for col in df_energy.columns if 'Production' in col or 'Consumption' in col]\n",
    "\n",
    "print(\"Columns identified as subcategories of a single energy type\")\n",
    "print(energy_columns)\n",
    "\n",
    "if len(energy_columns) > 1:\n",
    "    print(\"\\n'Tidiness' issue detected: Multiple columns represent different energy types\")\n",
    "else:\n",
    "    print(\"\\nNo 'tidiness' problem detected.\")\n"
   ]
  },
  {
   "cell_type": "markdown",
   "id": "f3e9f174",
   "metadata": {},
   "source": [
    "**Response to tidiness issue 2 : df_energy**\n",
    "\n",
    "'Tidiness' issue detected: Multiple columns represent different energy types."
   ]
  },
  {
   "cell_type": "code",
   "execution_count": 737,
   "id": "7381d961",
   "metadata": {},
   "outputs": [
    {
     "name": "stdout",
     "output_type": "stream",
     "text": [
      " 'tidineness' detected: some columns contain combined information.\n",
      "Colonnes concernées : ['sector-name', 'fuel-name', 'state-name', 'value-units']\n"
     ]
    }
   ],
   "source": [
    "import pandas as pd\n",
    "\n",
    "\n",
    "def check_combined_info(df):\n",
    "    combined_columns = []\n",
    "    \n",
    "    for col in df.columns:\n",
    "        if df[col].astype(str).str.contains(r',| |kg|ton|:').any():\n",
    "            combined_columns.append(col)\n",
    "    \n",
    "    return combined_columns\n",
    "\n",
    "combined_info_columns = check_combined_info(co2_df)\n",
    "\n",
    "if combined_info_columns:\n",
    "    print(\" 'tidineness' detected: some columns contain combined information.\")\n",
    "    print(\"Colonnes concernées :\", combined_info_columns)\n",
    "else:\n",
    "    print(\"No 'tidiness' problem detected\")\n",
    "\n"
   ]
  },
  {
   "cell_type": "markdown",
   "id": "65011c50",
   "metadata": {},
   "source": [
    "**Response to tidiness issue 2 : co2_df**\n",
    "\n",
    "'tidiness' issue detected: some columns contain combined information.\n",
    "Affected columns: ['sector-name', 'fuel-name', 'state-name', 'value-units']\n"
   ]
  },
  {
   "cell_type": "code",
   "execution_count": 738,
   "id": "67c0c436",
   "metadata": {},
   "outputs": [
    {
     "name": "stdout",
     "output_type": "stream",
     "text": [
      "Anomalies in 'value':\n",
      "     period sectorId                                      sector-name fuelId  \\\n",
      "1      2021       TT  Total carbon dioxide emissions from all sectors     NG   \n",
      "3      2021       TT  Total carbon dioxide emissions from all sectors     CO   \n",
      "4      2021       TT  Total carbon dioxide emissions from all sectors     TO   \n",
      "5      2021       IC              Industrial carbon dioxide emissions     TO   \n",
      "13     2021       TC          Transportation carbon dioxide emissions     TO   \n",
      "...     ...      ...                                              ...    ...   \n",
      "4992   2017       RC             Residential carbon dioxide emissions     CO   \n",
      "4993   2017       CC              Commercial carbon dioxide emissions     TO   \n",
      "4994   2017       CC              Commercial carbon dioxide emissions     NG   \n",
      "4997   2017       RC             Residential carbon dioxide emissions     TO   \n",
      "4998   2017       RC             Residential carbon dioxide emissions     NG   \n",
      "\n",
      "        fuel-name stateId            state-name     value  \\\n",
      "1     Natural Gas      DC  District of Columbia  1.499258   \n",
      "3            Coal      DC  District of Columbia  0.000000   \n",
      "4       All Fuels      DC  District of Columbia  2.520856   \n",
      "5       All Fuels      DC  District of Columbia  0.024819   \n",
      "13      All Fuels      DC  District of Columbia  0.941809   \n",
      "...           ...     ...                   ...       ...   \n",
      "4992         Coal      AK                Alaska  0.000000   \n",
      "4993    All Fuels      AK                Alaska  2.062429   \n",
      "4994  Natural Gas      AK                Alaska  0.812433   \n",
      "4997    All Fuels      AK                Alaska  1.660980   \n",
      "4998  Natural Gas      AK                Alaska  1.058200   \n",
      "\n",
      "                     value-units  \n",
      "1     million metric tons of CO2  \n",
      "3     million metric tons of CO2  \n",
      "4     million metric tons of CO2  \n",
      "5     million metric tons of CO2  \n",
      "13    million metric tons of CO2  \n",
      "...                          ...  \n",
      "4992  million metric tons of CO2  \n",
      "4993  million metric tons of CO2  \n",
      "4994  million metric tons of CO2  \n",
      "4997  million metric tons of CO2  \n",
      "4998  million metric tons of CO2  \n",
      "\n",
      "[4396 rows x 9 columns]\n"
     ]
    }
   ],
   "source": [
    "import pandas as pd\n",
    "\n",
    "def detect_anomalies(co2_df, column, threshold):\n",
    "    \n",
    "    co2_df[column] = pd.to_numeric(co2_df[column], errors='coerce')\n",
    "    \n",
    "    co2_df['Difference'] = co2_df[column].diff().abs()\n",
    "    \n",
    "    anomalies = co2_df[co2_df['Difference'] > threshold].copy()\n",
    "    \n",
    "    anomalies = anomalies.drop(columns=['Difference'])\n",
    "    \n",
    "    return anomalies\n",
    "\n",
    "seuil = 0.5\n",
    "\n",
    "anomalies_co2 = detect_anomalies(co2_df, 'value', seuil)\n",
    "\n",
    "print(\"Anomalies in 'value':\")\n",
    "print(anomalies_co2)\n"
   ]
  },
  {
   "cell_type": "markdown",
   "id": "d6ab4e39",
   "metadata": {},
   "source": [
    "**Response to tidiness issue 2 : co2_df**\n",
    "\n",
    "\n",
    "The analysis you performed shows an overview of the anomalies detected in the value column. Here are some conclusions and interpretation ideas based on the data displayed."
   ]
  },
  {
   "cell_type": "markdown",
   "id": "20848adb",
   "metadata": {},
   "source": [
    "## 3. Clean data\n"
   ]
  },
  {
   "cell_type": "markdown",
   "id": "a18799da",
   "metadata": {},
   "source": [
    "### **Quality Issue 1: FILL IN**"
   ]
  },
  {
   "cell_type": "markdown",
   "id": "155c3d2b",
   "metadata": {},
   "source": [
    "**Celaning isssue quality 1 : df_energy**\n"
   ]
  },
  {
   "cell_type": "code",
   "execution_count": 739,
   "id": "542d031d",
   "metadata": {},
   "outputs": [
    {
     "name": "stdout",
     "output_type": "stream",
     "text": [
      "       Month  Total Fossil Fuels Production  \\\n",
      "0 1973-01-01                       4.932632   \n",
      "1 1973-02-01                       4.729582   \n",
      "2 1973-03-01                       4.946902   \n",
      "3 1973-04-01                       4.716271   \n",
      "4 1973-05-01                       4.956995   \n",
      "\n",
      "   Nuclear Electric Power Production  Total Renewable Energy Production  \\\n",
      "0                           0.068103                           0.219839   \n",
      "1                           0.064634                           0.197330   \n",
      "2                           0.072494                           0.218686   \n",
      "3                           0.064070                           0.209330   \n",
      "4                           0.062111                           0.215982   \n",
      "\n",
      "   Total Primary Energy Production  Primary Energy Imports  \\\n",
      "0                         5.220574                1.173080   \n",
      "1                         4.991545                1.168005   \n",
      "2                         5.238082                1.309473   \n",
      "3                         4.989672                1.085169   \n",
      "4                         5.235087                1.162804   \n",
      "\n",
      "   Primary Energy Exports  Primary Energy Net Imports  \\\n",
      "0                0.125781                    1.047299   \n",
      "1                0.120883                    1.047122   \n",
      "2                0.139950                    1.169523   \n",
      "3                0.194185                    0.890984   \n",
      "4                0.196775                    0.966029   \n",
      "\n",
      "   Primary Energy Stock Change and Other  Total Fossil Fuels Consumption  \\\n",
      "0                               0.771858                        6.747651   \n",
      "1                               0.390129                        6.163095   \n",
      "2                              -0.067640                        6.044647   \n",
      "3                              -0.110067                        5.493184   \n",
      "4                              -0.305335                        5.613551   \n",
      "\n",
      "   Nuclear Electric Power Consumption  Total Renewable Energy Consumption  \\\n",
      "0                            0.068103                            0.219839   \n",
      "1                            0.064634                            0.197330   \n",
      "2                            0.072494                            0.218686   \n",
      "3                            0.064070                            0.209330   \n",
      "4                            0.062111                            0.215982   \n",
      "\n",
      "   Total Primary Energy Consumption  \n",
      "0                          7.039731  \n",
      "1                          6.428796  \n",
      "2                          6.339964  \n",
      "3                          5.770589  \n",
      "4                          5.895781  \n"
     ]
    }
   ],
   "source": [
    "import pandas as pd\n",
    "\n",
    "\n",
    "def clean_anomalies(df_energy, column, threshold):\n",
    "   \n",
    "    df_energy['Difference'] = df_energy[column].diff().abs()\n",
    "    \n",
    "    for index, row in df_energy.iterrows():\n",
    "        if row['Difference'] > threshold:\n",
    "            if index > 0 and index < len(df_energy) - 1:\n",
    "                df_energy.at[index, column] = (df_energy.at[index - 1, column] + df_energy.at[index + 1, column]) / 2\n",
    "    \n",
    "    df_energy = df_energy.drop(columns=['Difference'])\n",
    "    \n",
    "    return df_energy\n",
    "\n",
    "seuil = 0.5\n",
    "\n",
    "df_energy_cleaned = clean_anomalies(df_energy, 'Total Fossil Fuels Production', seuil)\n",
    "df_energy_cleaned = clean_anomalies(df_energy_cleaned, 'Total Renewable Energy Production', seuil)\n",
    "\n",
    "print(df_energy_cleaned.head())\n"
   ]
  },
  {
   "cell_type": "markdown",
   "id": "91c14bc5",
   "metadata": {},
   "source": [
    "**Celaning isssue quality 1 : co2_df**\n"
   ]
  },
  {
   "cell_type": "code",
   "execution_count": 740,
   "id": "cd4de96b",
   "metadata": {},
   "outputs": [
    {
     "name": "stdout",
     "output_type": "stream",
     "text": [
      "  period sectorId                                      sector-name fuelId  \\\n",
      "0   2021       RC             Residential carbon dioxide emissions     CO   \n",
      "1   2021       TT  Total carbon dioxide emissions from all sectors     NG   \n",
      "2   2021       TT  Total carbon dioxide emissions from all sectors     PE   \n",
      "3   2021       TT  Total carbon dioxide emissions from all sectors     CO   \n",
      "4   2021       TT  Total carbon dioxide emissions from all sectors     TO   \n",
      "\n",
      "     fuel-name stateId            state-name     value  \\\n",
      "0         Coal      SC        South Carolina  0.000000   \n",
      "1  Natural Gas      DC  District of Columbia  0.510799   \n",
      "2    Petroleum      DC  District of Columbia  1.021598   \n",
      "3         Coal      DC  District of Columbia  1.771227   \n",
      "4    All Fuels      DC  District of Columbia  0.898023   \n",
      "\n",
      "                  value-units  \n",
      "0  million metric tons of CO2  \n",
      "1  million metric tons of CO2  \n",
      "2  million metric tons of CO2  \n",
      "3  million metric tons of CO2  \n",
      "4  million metric tons of CO2  \n"
     ]
    }
   ],
   "source": [
    "import pandas as pd\n",
    "\n",
    "def clean_anomalies(co2_df, column, threshold):\n",
    " \n",
    "    co2_df[column] = pd.to_numeric(co2_df[column], errors='coerce')\n",
    "    \n",
    "    co2_df['Difference'] = co2_df[column].diff().abs()\n",
    "    \n",
    "    for index, row in co2_df.iterrows():\n",
    "        if row['Difference'] > threshold:\n",
    "            if index > 0 and index < len(co2_df) - 1:\n",
    "                co2_df.at[index, column] = (co2_df.at[index - 1, column] + co2_df.at[index + 1, column]) / 2\n",
    "    \n",
    "    co2_df = co2_df.drop(columns=['Difference'])\n",
    "    \n",
    "    return co2_df\n",
    "\n",
    "seuil = 0.5\n",
    "\n",
    "co2_df_cleaned = clean_anomalies(co2_df, 'value', seuil)\n",
    "\n",
    "print(co2_df_cleaned.head())\n",
    "\n"
   ]
  },
  {
   "cell_type": "markdown",
   "id": "fa21ed51",
   "metadata": {},
   "source": [
    "### **Quality Issue 2: FILL IN**"
   ]
  },
  {
   "cell_type": "markdown",
   "id": "54201769",
   "metadata": {},
   "source": [
    "**Celaning isssue quality 2 : df_energy**\n"
   ]
  },
  {
   "cell_type": "code",
   "execution_count": 741,
   "id": "f8a09bcb",
   "metadata": {},
   "outputs": [
    {
     "name": "stdout",
     "output_type": "stream",
     "text": [
      "\n",
      "Final data types after conversions:\n",
      "Month                                    datetime64[ns]\n",
      "Total Fossil Fuels Production                   float64\n",
      "Nuclear Electric Power Production               float64\n",
      "Total Renewable Energy Production               float64\n",
      "Total Primary Energy Production                 float64\n",
      "Primary Energy Imports                          float64\n",
      "Primary Energy Exports                          float64\n",
      "Primary Energy Net Imports                      float64\n",
      "Primary Energy Stock Change and Other           float64\n",
      "Total Fossil Fuels Consumption                  float64\n",
      "Nuclear Electric Power Consumption              float64\n",
      "Total Renewable Energy Consumption              float64\n",
      "Total Primary Energy Consumption                float64\n",
      "dtype: object\n"
     ]
    }
   ],
   "source": [
    "# 1. Ensure 'Month' is in datetime64 format\n",
    "if df_energy_cleaned['Month'].dtype != 'datetime64[ns]':\n",
    "    df_energy_cleaned['Month'] = pd.to_datetime(df_energy['Month'])\n",
    "    print(\"Converted 'Date' column to datetime64[ns] format.\")\n",
    "\n",
    "# 2. Ensure all energy measure columns are in float64 format\n",
    "# List of numeric columns to check and convert\n",
    "numeric_columns = [\n",
    "    'Total Fossil Fuels Production',\n",
    "    'Nuclear Electric Power Production',\n",
    "    'Total Renewable Energy Production',\n",
    "    'Total Primary Energy Production',\n",
    "    'Primary Energy Imports',\n",
    "    'Primary Energy Exports',\n",
    "    'Primary Energy Net Imports',\n",
    "    'Primary Energy Stock Change and Other',\n",
    "    'Total Fossil Fuels Consumption',\n",
    "    'Nuclear Electric Power Consumption',\n",
    "    'Total Renewable Energy Consumption',\n",
    "    'Total Primary Energy Consumption'\n",
    "]\n",
    "\n",
    "# Convert each column to float64 if it's not already\n",
    "for col in numeric_columns:\n",
    "    if df_energy_cleaned[col].dtype != 'float64':\n",
    "        df_energy_cleaned[col] = pd.to_numeric(df_energy_cleaned[col], errors='coerce')\n",
    "        print(f\"Converted '{col}' column to float64 format.\")\n",
    "        \n",
    "# 3. Verify the final data types\n",
    "\n",
    "print(\"\\nFinal data types after conversions:\")\n",
    "print(df_energy_cleaned.dtypes)"
   ]
  },
  {
   "cell_type": "markdown",
   "id": "4ae8f836",
   "metadata": {},
   "source": [
    "**Celaning isssue quality 2 : co2_df**\n"
   ]
  },
  {
   "cell_type": "code",
   "execution_count": 742,
   "id": "56560d64",
   "metadata": {},
   "outputs": [
    {
     "name": "stdout",
     "output_type": "stream",
     "text": [
      "The 'period' column has been converted to datetime64 format.\n",
      "The 'value' column has been converted to float.\n",
      "\n",
      "Data types after conversion:\n",
      "period         datetime64[ns]\n",
      "sectorId               object\n",
      "sector-name            object\n",
      "fuelId                 object\n",
      "fuel-name              object\n",
      "stateId                object\n",
      "state-name             object\n",
      "value                 float64\n",
      "value-units            object\n",
      "dtype: object\n",
      "\n",
      "Missing values after conversion:\n",
      "period         0\n",
      "sectorId       0\n",
      "sector-name    0\n",
      "fuelId         0\n",
      "fuel-name      0\n",
      "stateId        0\n",
      "state-name     0\n",
      "value          0\n",
      "value-units    0\n",
      "dtype: int64\n"
     ]
    }
   ],
   "source": [
    "# 1. Convert 'period' to datetime64 format\n",
    "co2_df_cleaned['period'] = pd.to_datetime(co2_df_cleaned['period'], errors='coerce', format='%Y')\n",
    "print(\"The 'period' column has been converted to datetime64 format.\")\n",
    "\n",
    "# 2. Convert 'value' to float, handling any formatting errors\n",
    "co2_df_cleaned['value'] = pd.to_numeric(co2_df_cleaned['value'], errors='coerce')\n",
    "print(\"The 'value' column has been converted to float.\")\n",
    "\n",
    "# Final check of data types\n",
    "print(\"\\nData types after conversion:\")\n",
    "print(co2_df_cleaned.dtypes)\n",
    "\n",
    "# Check for missing values after conversion\n",
    "print(\"\\nMissing values after conversion:\")\n",
    "print(co2_df_cleaned.isnull().sum())"
   ]
  },
  {
   "cell_type": "markdown",
   "id": "9ebd0151",
   "metadata": {},
   "source": [
    "### **Tidiness Issue 1: FILL IN**"
   ]
  },
  {
   "cell_type": "markdown",
   "id": "cafc8c11",
   "metadata": {},
   "source": [
    "**Celaning isssue tidiness 1 : df_energy**\n"
   ]
  },
  {
   "cell_type": "code",
   "execution_count": 743,
   "id": "0943eee7",
   "metadata": {
    "scrolled": true
   },
   "outputs": [
    {
     "name": "stdout",
     "output_type": "stream",
     "text": [
      "The 'Month' column has been renamed to 'Date'.\n",
      "\n",
      "Column names in the energy consumption dataset after renaming:\n",
      "Index(['Date', 'Total Fossil Fuels Production',\n",
      "       'Nuclear Electric Power Production',\n",
      "       'Total Renewable Energy Production', 'Total Primary Energy Production',\n",
      "       'Primary Energy Imports', 'Primary Energy Exports',\n",
      "       'Primary Energy Net Imports', 'Primary Energy Stock Change and Other',\n",
      "       'Total Fossil Fuels Consumption', 'Nuclear Electric Power Consumption',\n",
      "       'Total Renewable Energy Consumption',\n",
      "       'Total Primary Energy Consumption'],\n",
      "      dtype='object')\n"
     ]
    }
   ],
   "source": [
    "# Rename 'Month' column to 'Date' in the energy consumption dataset\n",
    "df_energy_cleaned.rename(columns={'Month': 'Date'}, inplace=True)\n",
    "print(\"The 'Month' column has been renamed to 'Date'.\")\n",
    "\n",
    "# Verify the column names after renaming\n",
    "print(\"\\nColumn names in the energy consumption dataset after renaming:\")\n",
    "print(df_energy_cleaned.columns)\n",
    "\n",
    "\n"
   ]
  },
  {
   "cell_type": "markdown",
   "id": "433f49f6",
   "metadata": {},
   "source": [
    "**Celaning isssue tidiness 1 : co2_df**\n"
   ]
  },
  {
   "cell_type": "code",
   "execution_count": 744,
   "id": "6ee22d24",
   "metadata": {},
   "outputs": [
    {
     "name": "stdout",
     "output_type": "stream",
     "text": [
      "The 'period' column has been renamed to 'Date'.\n",
      "\n",
      "Column names in the energy consumption dataset after renaming:\n",
      "Index(['Date', 'sectorId', 'sector-name', 'fuelId', 'fuel-name', 'stateId',\n",
      "       'state-name', 'value', 'value-units'],\n",
      "      dtype='object')\n"
     ]
    }
   ],
   "source": [
    "# Rename 'Month' column to 'Date' in the energy consumption dataset\n",
    "co2_df_cleaned.rename(columns={'period': 'Date'}, inplace=True)\n",
    "print(\"The 'period' column has been renamed to 'Date'.\")\n",
    "\n",
    "# Verify the column names after renaming\n",
    "print(\"\\nColumn names in the energy consumption dataset after renaming:\")\n",
    "print(co2_df_cleaned.columns)\n"
   ]
  },
  {
   "cell_type": "markdown",
   "id": "8f5c892f",
   "metadata": {},
   "source": [
    "### **Tidiness Issue 2 : FILL IN**"
   ]
  },
  {
   "cell_type": "markdown",
   "id": "d0e5b592",
   "metadata": {},
   "source": [
    "**Celaning isssue tidiness 2 : df_co2**\n"
   ]
  },
  {
   "cell_type": "code",
   "execution_count": 745,
   "id": "45ea17a0",
   "metadata": {},
   "outputs": [
    {
     "ename": "KeyError",
     "evalue": "\"['Date'] not in index\"",
     "output_type": "error",
     "traceback": [
      "\u001b[1;31m---------------------------------------------------------------------------\u001b[0m",
      "\u001b[1;31mKeyError\u001b[0m                                  Traceback (most recent call last)",
      "Cell \u001b[1;32mIn[745], line 6\u001b[0m\n\u001b[0;32m      1\u001b[0m \u001b[38;5;28;01mimport\u001b[39;00m \u001b[38;5;21;01mpandas\u001b[39;00m \u001b[38;5;28;01mas\u001b[39;00m \u001b[38;5;21;01mpd\u001b[39;00m\n\u001b[0;32m      4\u001b[0m co2_df[\u001b[38;5;124m'\u001b[39m\u001b[38;5;124mType d\u001b[39m\u001b[38;5;130;01m\\'\u001b[39;00m\u001b[38;5;124ménergie\u001b[39m\u001b[38;5;124m'\u001b[39m] \u001b[38;5;241m=\u001b[39m co2_df[\u001b[38;5;124m'\u001b[39m\u001b[38;5;124msector-name\u001b[39m\u001b[38;5;124m'\u001b[39m] \u001b[38;5;241m+\u001b[39m \u001b[38;5;124m'\u001b[39m\u001b[38;5;124m - \u001b[39m\u001b[38;5;124m'\u001b[39m \u001b[38;5;241m+\u001b[39m co2_df[\u001b[38;5;124m'\u001b[39m\u001b[38;5;124mfuel-name\u001b[39m\u001b[38;5;124m'\u001b[39m]\n\u001b[1;32m----> 6\u001b[0m co2_df_long \u001b[38;5;241m=\u001b[39m co2_df[[\u001b[38;5;124m'\u001b[39m\u001b[38;5;124mDate\u001b[39m\u001b[38;5;124m'\u001b[39m, \u001b[38;5;124m'\u001b[39m\u001b[38;5;124mstateId\u001b[39m\u001b[38;5;124m'\u001b[39m, \u001b[38;5;124m'\u001b[39m\u001b[38;5;124mstate-name\u001b[39m\u001b[38;5;124m'\u001b[39m, \u001b[38;5;124m'\u001b[39m\u001b[38;5;124mType d\u001b[39m\u001b[38;5;130;01m\\'\u001b[39;00m\u001b[38;5;124ménergie\u001b[39m\u001b[38;5;124m'\u001b[39m, \u001b[38;5;124m'\u001b[39m\u001b[38;5;124mvalue\u001b[39m\u001b[38;5;124m'\u001b[39m, \u001b[38;5;124m'\u001b[39m\u001b[38;5;124mvalue-units\u001b[39m\u001b[38;5;124m'\u001b[39m]]\n\u001b[0;32m      8\u001b[0m co2_df_long \u001b[38;5;241m=\u001b[39m co2_df_long\u001b[38;5;241m.\u001b[39mrename(columns\u001b[38;5;241m=\u001b[39m{\u001b[38;5;124m'\u001b[39m\u001b[38;5;124mvalue\u001b[39m\u001b[38;5;124m'\u001b[39m: \u001b[38;5;124m'\u001b[39m\u001b[38;5;124mValue\u001b[39m\u001b[38;5;124m'\u001b[39m})\n\u001b[0;32m     10\u001b[0m \u001b[38;5;28mprint\u001b[39m(co2_df_long\u001b[38;5;241m.\u001b[39mhead())\n",
      "File \u001b[1;32m~\\Nouveau dossier\\Lib\\site-packages\\pandas\\core\\frame.py:3767\u001b[0m, in \u001b[0;36mDataFrame.__getitem__\u001b[1;34m(self, key)\u001b[0m\n\u001b[0;32m   3765\u001b[0m     \u001b[38;5;28;01mif\u001b[39;00m is_iterator(key):\n\u001b[0;32m   3766\u001b[0m         key \u001b[38;5;241m=\u001b[39m \u001b[38;5;28mlist\u001b[39m(key)\n\u001b[1;32m-> 3767\u001b[0m     indexer \u001b[38;5;241m=\u001b[39m \u001b[38;5;28mself\u001b[39m\u001b[38;5;241m.\u001b[39mcolumns\u001b[38;5;241m.\u001b[39m_get_indexer_strict(key, \u001b[38;5;124m\"\u001b[39m\u001b[38;5;124mcolumns\u001b[39m\u001b[38;5;124m\"\u001b[39m)[\u001b[38;5;241m1\u001b[39m]\n\u001b[0;32m   3769\u001b[0m \u001b[38;5;66;03m# take() does not accept boolean indexers\u001b[39;00m\n\u001b[0;32m   3770\u001b[0m \u001b[38;5;28;01mif\u001b[39;00m \u001b[38;5;28mgetattr\u001b[39m(indexer, \u001b[38;5;124m\"\u001b[39m\u001b[38;5;124mdtype\u001b[39m\u001b[38;5;124m\"\u001b[39m, \u001b[38;5;28;01mNone\u001b[39;00m) \u001b[38;5;241m==\u001b[39m \u001b[38;5;28mbool\u001b[39m:\n",
      "File \u001b[1;32m~\\Nouveau dossier\\Lib\\site-packages\\pandas\\core\\indexes\\base.py:5877\u001b[0m, in \u001b[0;36mIndex._get_indexer_strict\u001b[1;34m(self, key, axis_name)\u001b[0m\n\u001b[0;32m   5874\u001b[0m \u001b[38;5;28;01melse\u001b[39;00m:\n\u001b[0;32m   5875\u001b[0m     keyarr, indexer, new_indexer \u001b[38;5;241m=\u001b[39m \u001b[38;5;28mself\u001b[39m\u001b[38;5;241m.\u001b[39m_reindex_non_unique(keyarr)\n\u001b[1;32m-> 5877\u001b[0m \u001b[38;5;28mself\u001b[39m\u001b[38;5;241m.\u001b[39m_raise_if_missing(keyarr, indexer, axis_name)\n\u001b[0;32m   5879\u001b[0m keyarr \u001b[38;5;241m=\u001b[39m \u001b[38;5;28mself\u001b[39m\u001b[38;5;241m.\u001b[39mtake(indexer)\n\u001b[0;32m   5880\u001b[0m \u001b[38;5;28;01mif\u001b[39;00m \u001b[38;5;28misinstance\u001b[39m(key, Index):\n\u001b[0;32m   5881\u001b[0m     \u001b[38;5;66;03m# GH 42790 - Preserve name from an Index\u001b[39;00m\n",
      "File \u001b[1;32m~\\Nouveau dossier\\Lib\\site-packages\\pandas\\core\\indexes\\base.py:5941\u001b[0m, in \u001b[0;36mIndex._raise_if_missing\u001b[1;34m(self, key, indexer, axis_name)\u001b[0m\n\u001b[0;32m   5938\u001b[0m     \u001b[38;5;28;01mraise\u001b[39;00m \u001b[38;5;167;01mKeyError\u001b[39;00m(\u001b[38;5;124mf\u001b[39m\u001b[38;5;124m\"\u001b[39m\u001b[38;5;124mNone of [\u001b[39m\u001b[38;5;132;01m{\u001b[39;00mkey\u001b[38;5;132;01m}\u001b[39;00m\u001b[38;5;124m] are in the [\u001b[39m\u001b[38;5;132;01m{\u001b[39;00maxis_name\u001b[38;5;132;01m}\u001b[39;00m\u001b[38;5;124m]\u001b[39m\u001b[38;5;124m\"\u001b[39m)\n\u001b[0;32m   5940\u001b[0m not_found \u001b[38;5;241m=\u001b[39m \u001b[38;5;28mlist\u001b[39m(ensure_index(key)[missing_mask\u001b[38;5;241m.\u001b[39mnonzero()[\u001b[38;5;241m0\u001b[39m]]\u001b[38;5;241m.\u001b[39munique())\n\u001b[1;32m-> 5941\u001b[0m \u001b[38;5;28;01mraise\u001b[39;00m \u001b[38;5;167;01mKeyError\u001b[39;00m(\u001b[38;5;124mf\u001b[39m\u001b[38;5;124m\"\u001b[39m\u001b[38;5;132;01m{\u001b[39;00mnot_found\u001b[38;5;132;01m}\u001b[39;00m\u001b[38;5;124m not in index\u001b[39m\u001b[38;5;124m\"\u001b[39m)\n",
      "\u001b[1;31mKeyError\u001b[0m: \"['Date'] not in index\""
     ]
    }
   ],
   "source": [
    "import pandas as pd\n",
    "\n",
    "\n",
    "co2_df['Type d\\'énergie'] = co2_df['sector-name'] + ' - ' + co2_df['fuel-name']\n",
    "\n",
    "co2_df_long = co2_df[['Date', 'stateId', 'state-name', 'Type d\\'énergie', 'value', 'value-units']]\n",
    "\n",
    "co2_df_long = co2_df_long.rename(columns={'value': 'Value'})\n",
    "\n",
    "print(co2_df_long.head())\n",
    "\n"
   ]
  },
  {
   "cell_type": "markdown",
   "id": "e496cbd2",
   "metadata": {},
   "source": [
    "**Celaning isssue tidiness 2 : df_energy**\n"
   ]
  },
  {
   "cell_type": "code",
   "execution_count": 746,
   "id": "74e47d87",
   "metadata": {},
   "outputs": [
    {
     "name": "stdout",
     "output_type": "stream",
     "text": [
      "First few rows of the reshaped DataFrame:\n",
      "        Date                    Energy Type     Value\n",
      "0 1973-01-01  Total Fossil Fuels Production  4.932632\n",
      "1 1973-02-01  Total Fossil Fuels Production  4.729582\n",
      "2 1973-03-01  Total Fossil Fuels Production  4.946902\n",
      "3 1973-04-01  Total Fossil Fuels Production  4.716271\n",
      "4 1973-05-01  Total Fossil Fuels Production  4.956995\n"
     ]
    }
   ],
   "source": [
    "# Reshape the DataFrame to long format\n",
    "df_energy_long = df_energy_cleaned.melt(\n",
    "    id_vars=['Date'],  # Keep the 'Date' column as an identifier\n",
    "    var_name='Energy Type',  # Name for the new column that will hold energy type names\n",
    "    value_name='Value'  # Name for the new column that will hold the corresponding values\n",
    ")\n",
    "\n",
    "# Display the first few rows of the reshaped DataFrame\n",
    "print(\"First few rows of the reshaped DataFrame:\")\n",
    "print(df_energy_long.head())\n",
    "\n"
   ]
  },
  {
   "cell_type": "markdown",
   "id": "29eec68c",
   "metadata": {},
   "source": [
    "### **Remove unnecessary variables and combine datasets**\n"
   ]
  },
  {
   "cell_type": "code",
   "execution_count": 747,
   "id": "355197ca",
   "metadata": {
    "scrolled": true
   },
   "outputs": [
    {
     "name": "stdout",
     "output_type": "stream",
     "text": [
      "Shape of the combined dataset: (5000, 21)\n",
      "\n",
      "First few rows of the combined dataset:\n",
      "        Date  Total Fossil Fuels Production  \\\n",
      "0 2017-01-01                       5.602469   \n",
      "1 2017-01-01                       5.602469   \n",
      "2 2017-01-01                       5.602469   \n",
      "3 2017-01-01                       5.602469   \n",
      "4 2017-01-01                       5.602469   \n",
      "\n",
      "   Nuclear Electric Power Production  Total Renewable Energy Production  \\\n",
      "0                           0.764768                           0.627073   \n",
      "1                           0.764768                           0.627073   \n",
      "2                           0.764768                           0.627073   \n",
      "3                           0.764768                           0.627073   \n",
      "4                           0.764768                           0.627073   \n",
      "\n",
      "   Total Primary Energy Production  Primary Energy Imports  \\\n",
      "0                         6.994311                2.314684   \n",
      "1                         6.994311                2.314684   \n",
      "2                         6.994311                2.314684   \n",
      "3                         6.994311                2.314684   \n",
      "4                         6.994311                2.314684   \n",
      "\n",
      "   Primary Energy Exports  Primary Energy Net Imports  \\\n",
      "0                1.380433                    0.934251   \n",
      "1                1.380433                    0.934251   \n",
      "2                1.380433                    0.934251   \n",
      "3                1.380433                    0.934251   \n",
      "4                1.380433                    0.934251   \n",
      "\n",
      "   Primary Energy Stock Change and Other  Total Fossil Fuels Consumption  ...  \\\n",
      "0                               0.742564                        7.279425  ...   \n",
      "1                               0.742564                        7.279425  ...   \n",
      "2                               0.742564                        7.279425  ...   \n",
      "3                               0.742564                        7.279425  ...   \n",
      "4                               0.742564                        7.279425  ...   \n",
      "\n",
      "   Total Renewable Energy Consumption  Total Primary Energy Consumption  \\\n",
      "0                            0.604635                          8.671126   \n",
      "1                            0.604635                          8.671126   \n",
      "2                            0.604635                          8.671126   \n",
      "3                            0.604635                          8.671126   \n",
      "4                            0.604635                          8.671126   \n",
      "\n",
      "   sectorId                           sector-name fuelId    fuel-name stateId  \\\n",
      "0        RC  Residential carbon dioxide emissions     CO         Coal      AK   \n",
      "1        CC   Commercial carbon dioxide emissions     TO    All Fuels      AK   \n",
      "2        CC   Commercial carbon dioxide emissions     NG  Natural Gas      AK   \n",
      "3        CC   Commercial carbon dioxide emissions     PE    Petroleum      AK   \n",
      "4        CC   Commercial carbon dioxide emissions     CO         Coal      AK   \n",
      "\n",
      "  state-name     value                 value-units  \n",
      "0     Alaska  1.282746  million metric tons of CO2  \n",
      "1     Alaska  1.047589  million metric tons of CO2  \n",
      "2     Alaska  0.807084  million metric tons of CO2  \n",
      "3     Alaska  0.566578  million metric tons of CO2  \n",
      "4     Alaska  0.683419  million metric tons of CO2  \n",
      "\n",
      "[5 rows x 21 columns]\n"
     ]
    }
   ],
   "source": [
    "# Merge the cleaned energy consumption dataset with the cleaned CO₂ emissions dataset on the 'Date' column\n",
    "combined_df = pd.merge(df_energy_cleaned, co2_df_cleaned, on='Date', how='inner')\n",
    "\n",
    "# Display the shape and first few rows of the combined dataset\n",
    "print(\"Shape of the combined dataset:\", combined_df.shape)\n",
    "print(\"\\nFirst few rows of the combined dataset:\")\n",
    "print(combined_df.head())"
   ]
  },
  {
   "cell_type": "markdown",
   "id": "fe082377",
   "metadata": {},
   "source": [
    "## 4. Update your data store\n"
   ]
  },
  {
   "cell_type": "code",
   "execution_count": 748,
   "id": "6102a02a",
   "metadata": {},
   "outputs": [
    {
     "name": "stdout",
     "output_type": "stream",
     "text": [
      "The combined dataset has been saved to 'combined_energy_co2_dataset.csv'.\n",
      "        Date  Total Fossil Fuels Production  \\\n",
      "0 2017-01-01                       5.602469   \n",
      "1 2017-01-01                       5.602469   \n",
      "2 2017-01-01                       5.602469   \n",
      "3 2017-01-01                       5.602469   \n",
      "4 2017-01-01                       5.602469   \n",
      "\n",
      "   Nuclear Electric Power Production  Total Renewable Energy Production  \\\n",
      "0                           0.764768                           0.627073   \n",
      "1                           0.764768                           0.627073   \n",
      "2                           0.764768                           0.627073   \n",
      "3                           0.764768                           0.627073   \n",
      "4                           0.764768                           0.627073   \n",
      "\n",
      "   Total Primary Energy Production  Primary Energy Imports  \\\n",
      "0                         6.994311                2.314684   \n",
      "1                         6.994311                2.314684   \n",
      "2                         6.994311                2.314684   \n",
      "3                         6.994311                2.314684   \n",
      "4                         6.994311                2.314684   \n",
      "\n",
      "   Primary Energy Exports  Primary Energy Net Imports  \\\n",
      "0                1.380433                    0.934251   \n",
      "1                1.380433                    0.934251   \n",
      "2                1.380433                    0.934251   \n",
      "3                1.380433                    0.934251   \n",
      "4                1.380433                    0.934251   \n",
      "\n",
      "   Primary Energy Stock Change and Other  Total Fossil Fuels Consumption  ...  \\\n",
      "0                               0.742564                        7.279425  ...   \n",
      "1                               0.742564                        7.279425  ...   \n",
      "2                               0.742564                        7.279425  ...   \n",
      "3                               0.742564                        7.279425  ...   \n",
      "4                               0.742564                        7.279425  ...   \n",
      "\n",
      "   Total Renewable Energy Consumption  Total Primary Energy Consumption  \\\n",
      "0                            0.604635                          8.671126   \n",
      "1                            0.604635                          8.671126   \n",
      "2                            0.604635                          8.671126   \n",
      "3                            0.604635                          8.671126   \n",
      "4                            0.604635                          8.671126   \n",
      "\n",
      "   sectorId                           sector-name fuelId    fuel-name stateId  \\\n",
      "0        RC  Residential carbon dioxide emissions     CO         Coal      AK   \n",
      "1        CC   Commercial carbon dioxide emissions     TO    All Fuels      AK   \n",
      "2        CC   Commercial carbon dioxide emissions     NG  Natural Gas      AK   \n",
      "3        CC   Commercial carbon dioxide emissions     PE    Petroleum      AK   \n",
      "4        CC   Commercial carbon dioxide emissions     CO         Coal      AK   \n",
      "\n",
      "  state-name     value                 value-units  \n",
      "0     Alaska  1.282746  million metric tons of CO2  \n",
      "1     Alaska  1.047589  million metric tons of CO2  \n",
      "2     Alaska  0.807084  million metric tons of CO2  \n",
      "3     Alaska  0.566578  million metric tons of CO2  \n",
      "4     Alaska  0.683419  million metric tons of CO2  \n",
      "\n",
      "[5 rows x 21 columns]\n"
     ]
    }
   ],
   "source": [
    "# Save the combined dataset to a CSV file\n",
    "combined_df.to_csv('combined_energy_co2_dataset.csv', index=False)\n",
    "print(\"The combined dataset has been saved to 'combined_energy_co2_dataset.csv'.\")\n",
    "\n",
    "print(combined_df.head())\n"
   ]
  },
  {
   "cell_type": "markdown",
   "id": "da30aa3b",
   "metadata": {},
   "source": [
    "## 5. Answer the research question\n",
    "\n",
    "### **5.1:** Define and answer the research question"
   ]
  },
  {
   "cell_type": "markdown",
   "id": "748c0837",
   "metadata": {},
   "source": [
    "Question: What demographic factors most influence the consumption of renewable energy versus fossil fuels?"
   ]
  },
  {
   "cell_type": "code",
   "execution_count": 749,
   "id": "35129dfd",
   "metadata": {},
   "outputs": [
    {
     "data": {
      "image/png": "[encoded data removed]",
      "text/plain": [
       "<Figure size 1400x700 with 1 Axes>"
      ]
     },
     "metadata": {},
     "output_type": "display_data"
    }
   ],
   "source": [
    "import matplotlib.pyplot as plt\n",
    "import seaborn as sns\n",
    "\n",
    "# Ensure that you have relevant data columns in your combined dataset\n",
    "# Example columns you might have:\n",
    "# 'state-name', 'Total Renewable Energy Consumption', 'Total Fossil Fuels Consumption'\n",
    "\n",
    "# 1. Bar Plot for Renewable vs. Fossil Fuels Consumption by State\n",
    "plt.figure(figsize=(14, 7))\n",
    "state_consumption = combined_df.groupby('state-name')[['Total Renewable Energy Consumption', 'Total Fossil Fuels Consumption']].sum().reset_index()\n",
    "state_consumption = state_consumption.melt(id_vars='state-name', var_name='Energy Type', value_name='Consumption')\n",
    "\n",
    "sns.barplot(x='state-name', y='Consumption', hue='Energy Type', data=state_consumption)\n",
    "plt.xticks(rotation=45)\n",
    "plt.title('Renewable vs. Fossil Fuels Consumption by State')\n",
    "plt.xlabel('State')\n",
    "plt.ylabel('Total Consumption')\n",
    "plt.legend(title='Energy Type')\n",
    "plt.tight_layout()\n",
    "plt.show()"
   ]
  },
  {
   "cell_type": "markdown",
   "id": "1df864d3",
   "metadata": {},
   "source": [
    "**Renewable vs. Fossil Fuel Consumption by State Conclusion:** \n",
    "\n",
    "The graph shows that total fossil fuel consumption far exceeds renewable energy consumption in nearly every state. This indicates a significant reliance on fossil fuels for energy consumption, even in states where efforts to adopt renewable energy have been put in place. States with high levels of renewable energy consumption appear to be the exception rather than the rule, which may suggest that local policies or incentives are needed to encourage a transition to more sustainable energy sources."
   ]
  },
  {
   "cell_type": "code",
   "execution_count": 752,
   "id": "157181de",
   "metadata": {},
   "outputs": [
    {
     "data": {
      "image/png": "[encoded data removed]",
      "text/plain": [
       "<Figure size 1000x600 with 1 Axes>"
      ]
     },
     "metadata": {},
     "output_type": "display_data"
    }
   ],
   "source": [
    "import matplotlib.pyplot as plt\n",
    "\n",
    "\n",
    "sectors = combined_df.groupby('sectorId').agg({\n",
    "    'Total Fossil Fuels Consumption': 'mean',\n",
    "    'Total Renewable Energy Consumption': 'mean'\n",
    "})\n",
    "\n",
    "sectors.plot(kind='bar', figsize=(10, 6))\n",
    "plt.xlabel('Sector')\n",
    "plt.ylabel('Average Consumption')\n",
    "plt.title('Average Energy Consumption by Sector')\n",
    "plt.show()\n"
   ]
  },
  {
   "cell_type": "markdown",
   "id": "6f20794c",
   "metadata": {},
   "source": [
    "**Energy Consumption by Sector**\n",
    "\n",
    "verage Energy Consumption by Sector (Bar Chart):\n",
    "\n",
    "This bar chart compares the average consumption of fossil fuels and renewable energy across different sectors.\n",
    "Key Finding: Across all sectors (residential, commercial, industrial, etc.), fossil fuel consumption is significantly higher than renewable energy consumption."
   ]
  },
  {
   "cell_type": "markdown",
   "id": "b710dd86",
   "metadata": {},
   "source": [
    "### CONCLUSION\n"
   ]
  },
  {
   "cell_type": "markdown",
   "id": "7fd38dfc",
   "metadata": {},
   "source": [
    "**Answer to Question: What demographic factors most influence renewable energy use versus fossil fuel use?**\n",
    "\n",
    "\n",
    "The graphs show that fossil fuel use largely dominates across all states and sectors, with a small proportion of renewable energy. Demographic factors influencing this trend likely include geographic location (states with natural resources for renewable energy show a slight increase in their use), as well as the primary economic sector in each region (industrial and commercial sectors, for example, tend to use more fossil fuels)."
   ]
  },
  {
   "cell_type": "markdown",
   "id": "960a4ea1",
   "metadata": {},
   "source": [
    "### Reflection\n"
   ]
  },
  {
   "cell_type": "markdown",
   "id": "b7353b89",
   "metadata": {},
   "source": [
    "**Steps for Further Project :**\n",
    "\n",
    "I would also examine in more detail research questions regarding the impact of local policies on the adoption of renewable energy."
   ]
  },
  {
   "cell_type": "code",
   "execution_count": null,
   "id": "7e1c1d20",
   "metadata": {},
   "outputs": [],
   "source": []
  },
  {
   "cell_type": "code",
   "execution_count": null,
   "id": "f55d8861",
   "metadata": {},
   "outputs": [],
   "source": []
  }
 ],
 "metadata": {
  "kernelspec": {
   "display_name": "Python 3 (ipykernel)",
   "language": "python",
   "name": "python3"
  },
  "language_info": {
   "codemirror_mode": {
    "name": "ipython",
    "version": 3
   },
   "file_extension": ".py",
   "mimetype": "text/x-python",
   "name": "python",
   "nbconvert_exporter": "python",
   "pygments_lexer": "ipython3",
   "version": "3.11.5"
  }
 },
 "nbformat": 4,
 "nbformat_minor": 5
}
